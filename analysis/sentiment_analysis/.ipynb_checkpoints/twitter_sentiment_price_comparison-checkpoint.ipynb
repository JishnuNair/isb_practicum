{
 "cells": [
  {
   "cell_type": "markdown",
   "metadata": {},
   "source": [
    "# Twitter Sentiment Analysis for top 3 cryptocurrencies"
   ]
  },
  {
   "cell_type": "code",
   "execution_count": 3,
   "metadata": {},
   "outputs": [],
   "source": [
    "import os\n",
    "import glob\n",
    "import re\n",
    "import plotly\n",
    "import datetime\n",
    "import plotly.graph_objs as go\n",
    "import pandas as pd\n",
    "import numpy as np\n",
    "import matplotlib.pyplot as plt\n",
    "import seaborn as sns\n",
    "from wordcloud import WordCloud, STOPWORDS\n",
    "\n",
    "\n",
    "from nltk.stem import WordNetLemmatizer\n",
    "from nltk.sentiment.vader import SentimentIntensityAnalyzer\n",
    "from nltk.sentiment.util import *\n",
    "from nltk import tokenize\n",
    "\n",
    "from sklearn.feature_extraction.text import TfidfVectorizer\n",
    "\n",
    "%matplotlib inline\n",
    "sns.set_style(\"darkgrid\")"
   ]
  },
  {
   "cell_type": "code",
   "execution_count": 11,
   "metadata": {},
   "outputs": [
    {
     "data": {
      "text/html": [
       "<div>\n",
       "<style scoped>\n",
       "    .dataframe tbody tr th:only-of-type {\n",
       "        vertical-align: middle;\n",
       "    }\n",
       "\n",
       "    .dataframe tbody tr th {\n",
       "        vertical-align: top;\n",
       "    }\n",
       "\n",
       "    .dataframe thead th {\n",
       "        text-align: right;\n",
       "    }\n",
       "</style>\n",
       "<table border=\"1\" class=\"dataframe\">\n",
       "  <thead>\n",
       "    <tr style=\"text-align: right;\">\n",
       "      <th></th>\n",
       "      <th>Date</th>\n",
       "      <th>bitcoin_percent_neg</th>\n",
       "      <th>ethereum_percent_neg</th>\n",
       "      <th>ripple_percent_neg</th>\n",
       "    </tr>\n",
       "  </thead>\n",
       "  <tbody>\n",
       "    <tr>\n",
       "      <th>0</th>\n",
       "      <td>2018-06-21</td>\n",
       "      <td>0.23</td>\n",
       "      <td>0.15</td>\n",
       "      <td>0.14</td>\n",
       "    </tr>\n",
       "    <tr>\n",
       "      <th>1</th>\n",
       "      <td>2018-06-22</td>\n",
       "      <td>0.21</td>\n",
       "      <td>0.03</td>\n",
       "      <td>0.07</td>\n",
       "    </tr>\n",
       "    <tr>\n",
       "      <th>2</th>\n",
       "      <td>2018-06-23</td>\n",
       "      <td>0.20</td>\n",
       "      <td>0.04</td>\n",
       "      <td>0.07</td>\n",
       "    </tr>\n",
       "    <tr>\n",
       "      <th>3</th>\n",
       "      <td>2018-06-24</td>\n",
       "      <td>0.10</td>\n",
       "      <td>0.12</td>\n",
       "      <td>0.09</td>\n",
       "    </tr>\n",
       "  </tbody>\n",
       "</table>\n",
       "</div>"
      ],
      "text/plain": [
       "        Date  bitcoin_percent_neg  ethereum_percent_neg  ripple_percent_neg\n",
       "0 2018-06-21                 0.23                  0.15                0.14\n",
       "1 2018-06-22                 0.21                  0.03                0.07\n",
       "2 2018-06-23                 0.20                  0.04                0.07\n",
       "3 2018-06-24                 0.10                  0.12                0.09"
      ]
     },
     "execution_count": 11,
     "metadata": {},
     "output_type": "execute_result"
    }
   ],
   "source": [
    "class cd:\n",
    "    \"\"\"Context manager for changing the current working directory\"\"\"\n",
    "    def __init__(self, newPath):\n",
    "        self.newPath = os.path.expanduser(newPath)\n",
    "\n",
    "    def __enter__(self):\n",
    "        self.savedPath = os.getcwd()\n",
    "        os.chdir(self.newPath)\n",
    "\n",
    "    def __exit__(self, etype, value, traceback):\n",
    "        os.chdir(self.savedPath)\n",
    "\n",
    "data_path='/home/jishnu/Documents/ISB/Term3/practicum/workspace/data_collection/data/daily_data'\n",
    "with cd(data_path):\n",
    "    bitcoin_tweets_list = list(glob.iglob('bitcoin_tweets_*_processed'))\n",
    "    ethereum_tweets_list = list(glob.iglob('ethereum_tweets_*_processed'))\n",
    "    ripple_tweets_list = list(glob.iglob('ripple_tweets_*_processed'))\n",
    "    \n",
    "dates_list = [re.search('[\\w]+_tweets_([\\d]*)_processed',item).group(1) for item in bitcoin_tweets_list]\n",
    "bitcoin_tweets_list = [os.path.join(data_path,item) for item in bitcoin_tweets_list]\n",
    "ethereum_tweets_list = [os.path.join(data_path,item) for item in ethereum_tweets_list]\n",
    "ripple_tweets_list = [os.path.join(data_path,item) for item in ripple_tweets_list]\n",
    "\n",
    "currency_list = []\n",
    "\n",
    "for date in dates_list:\n",
    "    bitcoin_tweets_file = os.path.join(data_path,'bitcoin_tweets_{0}_processed'.format(date))\n",
    "    ethereum_tweets_file = os.path.join(data_path,'ethereum_tweets_{0}_processed'.format(date))\n",
    "    ripple_tweets_file = os.path.join(data_path,'ripple_tweets_{0}_processed'.format(date))\n",
    "    # Creating dataframes\n",
    "    bitcoin_tweets = pd.read_table(bitcoin_tweets_file,sep='###!###',\n",
    "                       header=None,names=['tweet_no','user','date','location','tweet'],\n",
    "                       parse_dates=['date'],engine='python')\n",
    "    ethereum_tweets = pd.read_table(ethereum_tweets_file,sep='###!###',\n",
    "                       header=None,names=['tweet_no','user','date','location','tweet'],\n",
    "                       parse_dates=['date'],engine='python')\n",
    "    ripple_tweets = pd.read_table(ripple_tweets_file,sep='###!###',\n",
    "                       header=None,names=['tweet_no','user','date','location','tweet'],\n",
    "                       parse_dates=['date'],engine='python')\n",
    "    # Filling NAs in tweet column\n",
    "    bitcoin_tweets['tweet'].fillna('NA NA',inplace=True)\n",
    "    ethereum_tweets['tweet'].fillna('NA NA',inplace=True)\n",
    "    ripple_tweets['tweet'].fillna('NA NA',inplace=True)\n",
    "    # Creating container for holding all the three dataframes\n",
    "    tweets_df_dict = {'bitcoin' : bitcoin_tweets,'ethereum' : ethereum_tweets,'ripple' : ripple_tweets}\n",
    "    # Preprocessing Steps\n",
    "    for currency in tweets_df_dict:\n",
    "        tweets_df_dict[currency]['tweetos'] = ''\n",
    "        tweets_df_dict[currency]['tweet_clean'] = ''\n",
    "        #add tweetos first part\n",
    "        for i in range(len(tweets_df_dict[currency]['tweet'])):\n",
    "            try:\n",
    "                tweets_df_dict[currency].iloc[i,5] = tweets_df_dict[currency]['tweet'].str.split(' ')[i][1]\n",
    "            except AttributeError:    \n",
    "                tweets_df_dict[currency].iloc[i,5] = 'other'\n",
    "        #Preprocessing tweetos. select tweetos contains 'b@'\n",
    "        for i in range(len(tweets_df_dict[currency]['tweet'])):\n",
    "            if tweets_df_dict[currency]['tweetos'].str.contains('@')[i]  == False:\n",
    "                tweets_df_dict[currency].iloc[i,5] = 'other'\n",
    "        # remove URLs, RTs, and twitter handles\n",
    "        for i in range(len(tweets_df_dict[currency]['tweet'])):\n",
    "            tweets_df_dict[currency].iloc[i,6] = \" \".join([word for word in tweets_df_dict[currency]['tweet'][i].split()\n",
    "                                        if 'http' not in word and '@' not in word and '<' not in word])\n",
    "        tweets_df_dict[currency]['tweet_clean'] = tweets_df_dict[currency]['tweet_clean'].apply(lambda x: re.sub('[!@#$:).;,?&]', '', x.lower()))\n",
    "        tweets_df_dict[currency]['tweet_clean'] = tweets_df_dict[currency]['tweet_clean'].apply(lambda x: re.sub('  ', ' ', x))\n",
    "    # Performing Sentiment Analysis for each currency\n",
    "    for currency in tweets_df_dict:\n",
    "        tweets_df_dict[currency]['text_lem'] = [''.join([WordNetLemmatizer().lemmatize(re.sub('[^A-Za-z]', ' ', line)) for line in lists]).strip() for lists in tweets_df_dict[currency]['tweet_clean']]       \n",
    "        vectorizer = TfidfVectorizer(max_df=0.5,max_features=10000,min_df=10,stop_words='english',use_idf=True)\n",
    "        X = vectorizer.fit_transform(tweets_df_dict[currency]['text_lem'].str.upper())\n",
    "        sid = SentimentIntensityAnalyzer()\n",
    "        tweets_df_dict[currency]['sentiment_compound_polarity']=tweets_df_dict[currency].text_lem.apply(lambda x:sid.polarity_scores(x)['compound'])\n",
    "        tweets_df_dict[currency]['sentiment_neutral']=tweets_df_dict[currency].text_lem.apply(lambda x:sid.polarity_scores(x)['neu'])\n",
    "        tweets_df_dict[currency]['sentiment_negative']=tweets_df_dict[currency].text_lem.apply(lambda x:sid.polarity_scores(x)['neg'])\n",
    "        tweets_df_dict[currency]['sentiment_pos']=tweets_df_dict[currency].text_lem.apply(lambda x:sid.polarity_scores(x)['pos'])\n",
    "        tweets_df_dict[currency]['sentiment_type']=''\n",
    "        tweets_df_dict[currency].loc[tweets_df_dict[currency].sentiment_compound_polarity>0,'sentiment_type']='POSITIVE'\n",
    "        tweets_df_dict[currency].loc[tweets_df_dict[currency].sentiment_compound_polarity==0,'sentiment_type']='NEUTRAL'\n",
    "        tweets_df_dict[currency].loc[tweets_df_dict[currency].sentiment_compound_polarity<0,'sentiment_type']='NEGATIVE'\n",
    "    # Capturing sentiment scores for each currency and date combination\n",
    "    for currency in tweets_df_dict:\n",
    "        tweets_sentiment = tweets_df_dict[currency].groupby(['sentiment_type'])['sentiment_neutral'].count()\n",
    "        tweets_sentiment = pd.DataFrame(tweets_sentiment).reset_index()\n",
    "        tweets_sentiment.columns=['sentiment','count']\n",
    "        sum_count = tweets_sentiment['count'].sum()\n",
    "        tweets_sentiment['percent'] = tweets_sentiment.apply(lambda row:np.round(row['count']/sum_count,2),axis=1)\n",
    "        row = dict()\n",
    "        #row['Currency'] = currency\n",
    "        row['Date'] = date\n",
    "        #row['percent_pos'] = tweets_sentiment.loc[tweets_sentiment['sentiment'] == 'POSITIVE']['percent'].values[0]\n",
    "        #row['percent_neu'] = tweets_sentiment.loc[tweets_sentiment['sentiment'] == 'NEUTRAL']['percent'].values[0]\n",
    "        #row['percent_neg'] = tweets_sentiment.loc[tweets_sentiment['sentiment'] == 'NEGATIVE']['percent'].values[0]\n",
    "        if currency == 'bitcoin':\n",
    "            row['bitcoin_percent_neg'] = tweets_sentiment.loc[tweets_sentiment['sentiment'] == 'NEGATIVE']['percent'].values[0]\n",
    "        elif currency == 'ethereum':\n",
    "            row['ethereum_percent_neg'] = tweets_sentiment.loc[tweets_sentiment['sentiment'] == 'NEGATIVE']['percent'].values[0]\n",
    "        else:\n",
    "            row['ripple_percent_neg'] = tweets_sentiment.loc[tweets_sentiment['sentiment'] == 'NEGATIVE']['percent'].values[0]\n",
    "        currency_list.append(row)   \n",
    "    \n",
    "currency_sentiments = pd.DataFrame(currency_list)\n",
    "\n",
    "currency_sentiments['Date'] = pd.to_datetime(currency_sentiments['Date'])\n",
    "currency_sentiments['Date'] = currency_sentiments['Date'].apply(lambda x:x.to_pydatetime())\n",
    "\n",
    "date_grouped = currency_sentiments.groupby(by='Date')\n",
    "currency_sentiments = date_grouped.agg({'bitcoin_percent_neg':max,'ethereum_percent_neg':max,'ripple_percent_neg':max}).reset_index()\n",
    "\n",
    "currency_sentiments"
   ]
  },
  {
   "cell_type": "code",
   "execution_count": 12,
   "metadata": {},
   "outputs": [
    {
     "data": {
      "application/vnd.plotly.v1+json": {
       "data": [
        {
         "name": "Bitcoin Negative Percent",
         "type": "scatter",
         "uid": "d43610",
         "x": [
          "2018-06-21",
          "2018-06-22",
          "2018-06-23",
          "2018-06-24"
         ],
         "y": [
          0.23,
          0.21,
          0.2,
          0.1
         ]
        },
        {
         "name": "Ethereum Negative Percent",
         "type": "scatter",
         "uid": "0ecbd0",
         "x": [
          "2018-06-21",
          "2018-06-22",
          "2018-06-23",
          "2018-06-24"
         ],
         "y": [
          0.15,
          0.03,
          0.04,
          0.12
         ]
        },
        {
         "name": "Ripple Negative Percent",
         "type": "scatter",
         "uid": "9de94d",
         "x": [
          "2018-06-21",
          "2018-06-22",
          "2018-06-23",
          "2018-06-24"
         ],
         "y": [
          0.14,
          0.07,
          0.07,
          0.09
         ]
        }
       ],
       "layout": {
        "height": 500,
        "title": "Daily variation of percentage negative sentiment for top 3 cryptocurrencies",
        "width": 1000,
        "xaxis": {
         "autorange": true,
         "range": [
          "2018-06-20 19:31:05.0602",
          "2018-06-24 04:28:54.9398"
         ],
         "title": "Date",
         "titlefont": {
          "color": "#7f7f7f",
          "family": "Courier New, monospace",
          "size": 18
         },
         "type": "date"
        },
        "yaxis": {
         "autorange": true,
         "range": [
          0.015918003565062386,
          0.2440819964349376
         ],
         "title": "Percentage negative sentiments",
         "titlefont": {
          "color": "#7f7f7f",
          "family": "Courier New, monospace",
          "size": 18
         },
         "type": "linear"
        }
       }
      }
     },
     "metadata": {},
     "output_type": "display_data"
    }
   ],
   "source": [
    "bitcoin_neg_data = go.Scatter(x=currency_sentiments['Date'],\n",
    "                              y=currency_sentiments['bitcoin_percent_neg'],\n",
    "                              name='Bitcoin Negative Percent')\n",
    "ethereum_neg_data = go.Scatter(x=currency_sentiments['Date'],\n",
    "                              y=currency_sentiments['ethereum_percent_neg'],\n",
    "                              name='Ethereum Negative Percent')\n",
    "ripple_neg_data = go.Scatter(x=currency_sentiments['Date'],\n",
    "                              y=currency_sentiments['ripple_percent_neg'],\n",
    "                              name='Ripple Negative Percent')\n",
    "data = [bitcoin_neg_data,ethereum_neg_data,ripple_neg_data]\n",
    "layout = go.Layout(width=1000,height=500,\n",
    "    title='Daily variation of percentage negative sentiment for top 3 cryptocurrencies',\n",
    "    xaxis=dict(title='Date',titlefont=dict(family='Courier New, monospace',size=18,color='#7f7f7f')),\n",
    "    yaxis=dict(title='Percentage negative sentiments',titlefont=dict( family='Courier New, monospace',size=18,color='#7f7f7f'))\n",
    ")\n",
    "fig = go.Figure(data=data, layout=layout)\n",
    "plotly.offline.iplot(fig)"
   ]
  },
  {
   "cell_type": "markdown",
   "metadata": {},
   "source": [
    "## Daily Price Variation for Top 3 Cryptocurrencies"
   ]
  },
  {
   "cell_type": "code",
   "execution_count": 13,
   "metadata": {},
   "outputs": [],
   "source": [
    "with cd(data_path):\n",
    "    ticker_data_list = list(glob.iglob('ticker_data_*'))\n",
    "    \n",
    "dates_list = [re.search('ticker_data_([\\d]*).csv',item).group(1) for item in ticker_data_list]\n",
    "ticker_data_list = [os.path.join(data_path,item) for item in ticker_data_list]"
   ]
  },
  {
   "cell_type": "code",
   "execution_count": 14,
   "metadata": {},
   "outputs": [],
   "source": [
    "currency_list = []\n",
    "for date in dates_list:\n",
    "    ticker_file = os.path.join(data_path,'ticker_data_{0}.csv'.format(date))\n",
    "    ticker_df = pd.read_csv(ticker_file,\n",
    "                      usecols=['name','quotes.USD.market_cap','quotes.USD.percent_change_24h','quotes.USD.price','quotes.USD.volume_24h'])\n",
    "    currency_list.append({'Date' : date,\n",
    "                          'bitcoin_price_24h' : ticker_df.loc[ticker_df['name'] == 'Bitcoin']['quotes.USD.percent_change_24h'].values[0],\n",
    "                          'bitcoin_price' : ticker_df.loc[ticker_df['name'] == 'Bitcoin']['quotes.USD.price'].values[0],\n",
    "                          'ethereum_price_24h' : ticker_df.loc[ticker_df['name'] == 'Ethereum']['quotes.USD.percent_change_24h'].values[0],\n",
    "                          'ethereum_price' : ticker_df.loc[ticker_df['name'] == 'Ethereum']['quotes.USD.price'].values[0],\n",
    "                          'ripple_price_24h' : ticker_df.loc[ticker_df['name'] == 'Ripple']['quotes.USD.percent_change_24h'].values[0],\n",
    "                          'ripple_price' : ticker_df.loc[ticker_df['name'] == 'Ripple']['quotes.USD.price'].values[0]})\n",
    "currency_daily_prices = pd.DataFrame(currency_list)\n",
    "currency_daily_prices['Date'] = pd.to_datetime(currency_daily_prices['Date'])\n",
    "currency_daily_prices['Date'] = currency_daily_prices['Date'].apply(lambda x:x.to_pydatetime())\n",
    "currency_daily_prices = currency_daily_prices.sort_values(by='Date')"
   ]
  },
  {
   "cell_type": "code",
   "execution_count": 15,
   "metadata": {},
   "outputs": [
    {
     "data": {
      "application/vnd.plotly.v1+json": {
       "data": [
        {
         "name": "Bitcoin Price",
         "type": "scatter",
         "uid": "da3edb",
         "x": [
          "2018-06-13",
          "2018-06-15",
          "2018-06-16",
          "2018-06-17",
          "2018-06-18",
          "2018-06-19",
          "2018-06-20",
          "2018-06-21",
          "2018-06-22",
          "2018-06-23",
          "2018-06-24"
         ],
         "y": [
          6375.15,
          6549.4,
          6507.32,
          6545.04,
          6759.72,
          6716.51,
          6739.31,
          6732.97,
          6173.73,
          6079.35,
          5960.62
         ]
        },
        {
         "name": "Ethereum Price",
         "type": "scatter",
         "uid": "92f4ac",
         "x": [
          "2018-06-13",
          "2018-06-15",
          "2018-06-16",
          "2018-06-17",
          "2018-06-18",
          "2018-06-19",
          "2018-06-20",
          "2018-06-21",
          "2018-06-22",
          "2018-06-23",
          "2018-06-24"
         ],
         "y": [
          477.792,
          494.05300000000005,
          499.02099999999996,
          499.069,
          519.823,
          516.749,
          532.993,
          527.195,
          474.704,
          464.279,
          454.73699999999997
         ]
        },
        {
         "name": "Ripple Price",
         "type": "scatter",
         "uid": "bbdcb2",
         "x": [
          "2018-06-13",
          "2018-06-15",
          "2018-06-16",
          "2018-06-17",
          "2018-06-18",
          "2018-06-19",
          "2018-06-20",
          "2018-06-21",
          "2018-06-22",
          "2018-06-23",
          "2018-06-24"
         ],
         "y": [
          0.5347430000000001,
          0.54451,
          0.532037,
          0.53535,
          0.542901,
          0.536424,
          0.542668,
          0.532064,
          0.498125,
          0.48293800000000003,
          0.47036400000000006
         ]
        }
       ],
       "layout": {
        "height": 500,
        "title": "Daily variation of prices for top 3 cryptocurrencies",
        "width": 1000,
        "xaxis": {
         "autorange": true,
         "range": [
          "2018-06-12 07:42:57.3269",
          "2018-06-24 16:17:02.6731"
         ],
         "title": "Date",
         "titlefont": {
          "color": "#7f7f7f",
          "family": "Courier New, monospace",
          "size": 18
         },
         "type": "date"
        },
        "yaxis": {
         "autorange": true,
         "range": [
          -475.44828238502674,
          7235.638646385027
         ],
         "title": "Price(USD)",
         "titlefont": {
          "color": "#7f7f7f",
          "family": "Courier New, monospace",
          "size": 18
         },
         "type": "linear"
        }
       }
      }
     },
     "metadata": {},
     "output_type": "display_data"
    }
   ],
   "source": [
    "bitcoin_price_data = go.Scatter(x=currency_daily_prices['Date'],\n",
    "                              y=currency_daily_prices['bitcoin_price'],\n",
    "                              name='Bitcoin Price')\n",
    "ethereum_price_data = go.Scatter(x=currency_daily_prices['Date'],\n",
    "                              y=currency_daily_prices['ethereum_price'],\n",
    "                              name='Ethereum Price')\n",
    "ripple_price_data = go.Scatter(x=currency_daily_prices['Date'],\n",
    "                              y=currency_daily_prices['ripple_price'],\n",
    "                              name='Ripple Price')\n",
    "data = [bitcoin_price_data,ethereum_price_data,ripple_price_data]\n",
    "layout = go.Layout(width=1000,height=500,\n",
    "    title='Daily variation of prices for top 3 cryptocurrencies',\n",
    "    xaxis=dict(title='Date',titlefont=dict(family='Courier New, monospace',size=18,color='#7f7f7f')),\n",
    "    yaxis=dict(title='Price(USD)',titlefont=dict( family='Courier New, monospace',size=18,color='#7f7f7f'))\n",
    ")\n",
    "fig = go.Figure(data=data, layout=layout)\n",
    "plotly.offline.iplot(fig)"
   ]
  },
  {
   "cell_type": "code",
   "execution_count": 16,
   "metadata": {},
   "outputs": [
    {
     "data": {
      "application/vnd.plotly.v1+json": {
       "data": [
        {
         "name": "Ethereum Price",
         "type": "scatter",
         "uid": "03d31b",
         "x": [
          "2018-06-13",
          "2018-06-15",
          "2018-06-16",
          "2018-06-17",
          "2018-06-18",
          "2018-06-19",
          "2018-06-20",
          "2018-06-21",
          "2018-06-22",
          "2018-06-23",
          "2018-06-24"
         ],
         "y": [
          477.792,
          494.05300000000005,
          499.02099999999996,
          499.069,
          519.823,
          516.749,
          532.993,
          527.195,
          474.704,
          464.279,
          454.73699999999997
         ]
        },
        {
         "name": "Ripple Price",
         "type": "scatter",
         "uid": "c17a1e",
         "x": [
          "2018-06-13",
          "2018-06-15",
          "2018-06-16",
          "2018-06-17",
          "2018-06-18",
          "2018-06-19",
          "2018-06-20",
          "2018-06-21",
          "2018-06-22",
          "2018-06-23",
          "2018-06-24"
         ],
         "y": [
          0.5347430000000001,
          0.54451,
          0.532037,
          0.53535,
          0.542901,
          0.536424,
          0.542668,
          0.532064,
          0.498125,
          0.48293800000000003,
          0.47036400000000006
         ]
        }
       ],
       "layout": {
        "height": 500,
        "title": "Daily variation of prices for top 3 cryptocurrencies",
        "width": 1000,
        "xaxis": {
         "autorange": true,
         "range": [
          "2018-06-12 07:42:57.3269",
          "2018-06-24 16:17:02.6731"
         ],
         "title": "Date",
         "titlefont": {
          "color": "#7f7f7f",
          "family": "Courier New, monospace",
          "size": 18
         },
         "type": "date"
        },
        "yaxis": {
         "autorange": true,
         "range": [
          -37.024545308377895,
          570.487909308378
         ],
         "title": "Price(USD)",
         "titlefont": {
          "color": "#7f7f7f",
          "family": "Courier New, monospace",
          "size": 18
         },
         "type": "linear"
        }
       }
      }
     },
     "metadata": {},
     "output_type": "display_data"
    }
   ],
   "source": [
    "ethereum_price_data = go.Scatter(x=currency_daily_prices['Date'],\n",
    "                              y=currency_daily_prices['ethereum_price'],\n",
    "                              name='Ethereum Price')\n",
    "ripple_price_data = go.Scatter(x=currency_daily_prices['Date'],\n",
    "                              y=currency_daily_prices['ripple_price'],\n",
    "                              name='Ripple Price')\n",
    "data = [ethereum_price_data,ripple_price_data]\n",
    "layout = go.Layout(width=1000,height=500,\n",
    "    title='Daily variation of prices for top 3 cryptocurrencies',\n",
    "    xaxis=dict(title='Date',titlefont=dict(family='Courier New, monospace',size=18,color='#7f7f7f')),\n",
    "    yaxis=dict(title='Price(USD)',titlefont=dict( family='Courier New, monospace',size=18,color='#7f7f7f'))\n",
    ")\n",
    "fig = go.Figure(data=data, layout=layout)\n",
    "plotly.offline.iplot(fig)"
   ]
  },
  {
   "cell_type": "markdown",
   "metadata": {},
   "source": [
    "## Plotting Price and Sentiment Trends"
   ]
  },
  {
   "cell_type": "code",
   "execution_count": 17,
   "metadata": {},
   "outputs": [
    {
     "data": {
      "text/html": [
       "<div>\n",
       "<style scoped>\n",
       "    .dataframe tbody tr th:only-of-type {\n",
       "        vertical-align: middle;\n",
       "    }\n",
       "\n",
       "    .dataframe tbody tr th {\n",
       "        vertical-align: top;\n",
       "    }\n",
       "\n",
       "    .dataframe thead th {\n",
       "        text-align: right;\n",
       "    }\n",
       "</style>\n",
       "<table border=\"1\" class=\"dataframe\">\n",
       "  <thead>\n",
       "    <tr style=\"text-align: right;\">\n",
       "      <th></th>\n",
       "      <th>Date</th>\n",
       "      <th>bitcoin_percent_neg</th>\n",
       "      <th>ethereum_percent_neg</th>\n",
       "      <th>ripple_percent_neg</th>\n",
       "    </tr>\n",
       "  </thead>\n",
       "  <tbody>\n",
       "    <tr>\n",
       "      <th>0</th>\n",
       "      <td>2018-06-21</td>\n",
       "      <td>0.23</td>\n",
       "      <td>0.15</td>\n",
       "      <td>0.14</td>\n",
       "    </tr>\n",
       "    <tr>\n",
       "      <th>1</th>\n",
       "      <td>2018-06-22</td>\n",
       "      <td>0.21</td>\n",
       "      <td>0.03</td>\n",
       "      <td>0.07</td>\n",
       "    </tr>\n",
       "    <tr>\n",
       "      <th>2</th>\n",
       "      <td>2018-06-23</td>\n",
       "      <td>0.20</td>\n",
       "      <td>0.04</td>\n",
       "      <td>0.07</td>\n",
       "    </tr>\n",
       "    <tr>\n",
       "      <th>3</th>\n",
       "      <td>2018-06-24</td>\n",
       "      <td>0.10</td>\n",
       "      <td>0.12</td>\n",
       "      <td>0.09</td>\n",
       "    </tr>\n",
       "  </tbody>\n",
       "</table>\n",
       "</div>"
      ],
      "text/plain": [
       "        Date  bitcoin_percent_neg  ethereum_percent_neg  ripple_percent_neg\n",
       "0 2018-06-21                 0.23                  0.15                0.14\n",
       "1 2018-06-22                 0.21                  0.03                0.07\n",
       "2 2018-06-23                 0.20                  0.04                0.07\n",
       "3 2018-06-24                 0.10                  0.12                0.09"
      ]
     },
     "execution_count": 17,
     "metadata": {},
     "output_type": "execute_result"
    }
   ],
   "source": [
    "currency_sentiments"
   ]
  },
  {
   "cell_type": "code",
   "execution_count": 18,
   "metadata": {},
   "outputs": [
    {
     "data": {
      "text/html": [
       "<div>\n",
       "<style scoped>\n",
       "    .dataframe tbody tr th:only-of-type {\n",
       "        vertical-align: middle;\n",
       "    }\n",
       "\n",
       "    .dataframe tbody tr th {\n",
       "        vertical-align: top;\n",
       "    }\n",
       "\n",
       "    .dataframe thead th {\n",
       "        text-align: right;\n",
       "    }\n",
       "</style>\n",
       "<table border=\"1\" class=\"dataframe\">\n",
       "  <thead>\n",
       "    <tr style=\"text-align: right;\">\n",
       "      <th></th>\n",
       "      <th>Date</th>\n",
       "      <th>bitcoin_price</th>\n",
       "      <th>bitcoin_price_24h</th>\n",
       "      <th>ethereum_price</th>\n",
       "      <th>ethereum_price_24h</th>\n",
       "      <th>ripple_price</th>\n",
       "      <th>ripple_price_24h</th>\n",
       "    </tr>\n",
       "  </thead>\n",
       "  <tbody>\n",
       "    <tr>\n",
       "      <th>4</th>\n",
       "      <td>2018-06-13</td>\n",
       "      <td>6375.15</td>\n",
       "      <td>-5.36</td>\n",
       "      <td>477.792</td>\n",
       "      <td>-7.45</td>\n",
       "      <td>0.534743</td>\n",
       "      <td>-6.60</td>\n",
       "    </tr>\n",
       "    <tr>\n",
       "      <th>1</th>\n",
       "      <td>2018-06-15</td>\n",
       "      <td>6549.40</td>\n",
       "      <td>1.23</td>\n",
       "      <td>494.053</td>\n",
       "      <td>3.09</td>\n",
       "      <td>0.544510</td>\n",
       "      <td>0.43</td>\n",
       "    </tr>\n",
       "    <tr>\n",
       "      <th>6</th>\n",
       "      <td>2018-06-16</td>\n",
       "      <td>6507.32</td>\n",
       "      <td>-1.64</td>\n",
       "      <td>499.021</td>\n",
       "      <td>-0.72</td>\n",
       "      <td>0.532037</td>\n",
       "      <td>-3.44</td>\n",
       "    </tr>\n",
       "    <tr>\n",
       "      <th>7</th>\n",
       "      <td>2018-06-17</td>\n",
       "      <td>6545.04</td>\n",
       "      <td>-0.42</td>\n",
       "      <td>499.069</td>\n",
       "      <td>-0.09</td>\n",
       "      <td>0.535350</td>\n",
       "      <td>-2.04</td>\n",
       "    </tr>\n",
       "    <tr>\n",
       "      <th>9</th>\n",
       "      <td>2018-06-18</td>\n",
       "      <td>6759.72</td>\n",
       "      <td>3.27</td>\n",
       "      <td>519.823</td>\n",
       "      <td>3.42</td>\n",
       "      <td>0.542901</td>\n",
       "      <td>2.52</td>\n",
       "    </tr>\n",
       "    <tr>\n",
       "      <th>3</th>\n",
       "      <td>2018-06-19</td>\n",
       "      <td>6716.51</td>\n",
       "      <td>3.78</td>\n",
       "      <td>516.749</td>\n",
       "      <td>3.93</td>\n",
       "      <td>0.536424</td>\n",
       "      <td>2.32</td>\n",
       "    </tr>\n",
       "    <tr>\n",
       "      <th>10</th>\n",
       "      <td>2018-06-20</td>\n",
       "      <td>6739.31</td>\n",
       "      <td>-0.17</td>\n",
       "      <td>532.993</td>\n",
       "      <td>2.64</td>\n",
       "      <td>0.542668</td>\n",
       "      <td>-0.09</td>\n",
       "    </tr>\n",
       "    <tr>\n",
       "      <th>0</th>\n",
       "      <td>2018-06-21</td>\n",
       "      <td>6732.97</td>\n",
       "      <td>-0.88</td>\n",
       "      <td>527.195</td>\n",
       "      <td>-1.94</td>\n",
       "      <td>0.532064</td>\n",
       "      <td>-1.74</td>\n",
       "    </tr>\n",
       "    <tr>\n",
       "      <th>8</th>\n",
       "      <td>2018-06-22</td>\n",
       "      <td>6173.73</td>\n",
       "      <td>-8.25</td>\n",
       "      <td>474.704</td>\n",
       "      <td>-10.12</td>\n",
       "      <td>0.498125</td>\n",
       "      <td>-6.52</td>\n",
       "    </tr>\n",
       "    <tr>\n",
       "      <th>5</th>\n",
       "      <td>2018-06-23</td>\n",
       "      <td>6079.35</td>\n",
       "      <td>-7.99</td>\n",
       "      <td>464.279</td>\n",
       "      <td>-8.99</td>\n",
       "      <td>0.482938</td>\n",
       "      <td>-7.48</td>\n",
       "    </tr>\n",
       "    <tr>\n",
       "      <th>2</th>\n",
       "      <td>2018-06-24</td>\n",
       "      <td>5960.62</td>\n",
       "      <td>-3.07</td>\n",
       "      <td>454.737</td>\n",
       "      <td>-3.66</td>\n",
       "      <td>0.470364</td>\n",
       "      <td>-4.38</td>\n",
       "    </tr>\n",
       "  </tbody>\n",
       "</table>\n",
       "</div>"
      ],
      "text/plain": [
       "         Date  bitcoin_price  bitcoin_price_24h  ethereum_price  \\\n",
       "4  2018-06-13        6375.15              -5.36         477.792   \n",
       "1  2018-06-15        6549.40               1.23         494.053   \n",
       "6  2018-06-16        6507.32              -1.64         499.021   \n",
       "7  2018-06-17        6545.04              -0.42         499.069   \n",
       "9  2018-06-18        6759.72               3.27         519.823   \n",
       "3  2018-06-19        6716.51               3.78         516.749   \n",
       "10 2018-06-20        6739.31              -0.17         532.993   \n",
       "0  2018-06-21        6732.97              -0.88         527.195   \n",
       "8  2018-06-22        6173.73              -8.25         474.704   \n",
       "5  2018-06-23        6079.35              -7.99         464.279   \n",
       "2  2018-06-24        5960.62              -3.07         454.737   \n",
       "\n",
       "    ethereum_price_24h  ripple_price  ripple_price_24h  \n",
       "4                -7.45      0.534743             -6.60  \n",
       "1                 3.09      0.544510              0.43  \n",
       "6                -0.72      0.532037             -3.44  \n",
       "7                -0.09      0.535350             -2.04  \n",
       "9                 3.42      0.542901              2.52  \n",
       "3                 3.93      0.536424              2.32  \n",
       "10                2.64      0.542668             -0.09  \n",
       "0                -1.94      0.532064             -1.74  \n",
       "8               -10.12      0.498125             -6.52  \n",
       "5                -8.99      0.482938             -7.48  \n",
       "2                -3.66      0.470364             -4.38  "
      ]
     },
     "execution_count": 18,
     "metadata": {},
     "output_type": "execute_result"
    }
   ],
   "source": [
    "currency_daily_prices"
   ]
  },
  {
   "cell_type": "code",
   "execution_count": 19,
   "metadata": {},
   "outputs": [
    {
     "data": {
      "text/html": [
       "<div>\n",
       "<style scoped>\n",
       "    .dataframe tbody tr th:only-of-type {\n",
       "        vertical-align: middle;\n",
       "    }\n",
       "\n",
       "    .dataframe tbody tr th {\n",
       "        vertical-align: top;\n",
       "    }\n",
       "\n",
       "    .dataframe thead th {\n",
       "        text-align: right;\n",
       "    }\n",
       "</style>\n",
       "<table border=\"1\" class=\"dataframe\">\n",
       "  <thead>\n",
       "    <tr style=\"text-align: right;\">\n",
       "      <th></th>\n",
       "      <th>Date</th>\n",
       "      <th>bitcoin_price</th>\n",
       "      <th>bitcoin_price_24h</th>\n",
       "      <th>ethereum_price</th>\n",
       "      <th>ethereum_price_24h</th>\n",
       "      <th>ripple_price</th>\n",
       "      <th>ripple_price_24h</th>\n",
       "      <th>bitcoin_percent_neg</th>\n",
       "      <th>ethereum_percent_neg</th>\n",
       "      <th>ripple_percent_neg</th>\n",
       "    </tr>\n",
       "  </thead>\n",
       "  <tbody>\n",
       "    <tr>\n",
       "      <th>0</th>\n",
       "      <td>2018-06-13</td>\n",
       "      <td>6375.15</td>\n",
       "      <td>-5.36</td>\n",
       "      <td>477.792</td>\n",
       "      <td>-7.45</td>\n",
       "      <td>0.534743</td>\n",
       "      <td>-6.60</td>\n",
       "      <td>NaN</td>\n",
       "      <td>NaN</td>\n",
       "      <td>NaN</td>\n",
       "    </tr>\n",
       "    <tr>\n",
       "      <th>1</th>\n",
       "      <td>2018-06-15</td>\n",
       "      <td>6549.40</td>\n",
       "      <td>1.23</td>\n",
       "      <td>494.053</td>\n",
       "      <td>3.09</td>\n",
       "      <td>0.544510</td>\n",
       "      <td>0.43</td>\n",
       "      <td>NaN</td>\n",
       "      <td>NaN</td>\n",
       "      <td>NaN</td>\n",
       "    </tr>\n",
       "    <tr>\n",
       "      <th>2</th>\n",
       "      <td>2018-06-16</td>\n",
       "      <td>6507.32</td>\n",
       "      <td>-1.64</td>\n",
       "      <td>499.021</td>\n",
       "      <td>-0.72</td>\n",
       "      <td>0.532037</td>\n",
       "      <td>-3.44</td>\n",
       "      <td>NaN</td>\n",
       "      <td>NaN</td>\n",
       "      <td>NaN</td>\n",
       "    </tr>\n",
       "    <tr>\n",
       "      <th>3</th>\n",
       "      <td>2018-06-17</td>\n",
       "      <td>6545.04</td>\n",
       "      <td>-0.42</td>\n",
       "      <td>499.069</td>\n",
       "      <td>-0.09</td>\n",
       "      <td>0.535350</td>\n",
       "      <td>-2.04</td>\n",
       "      <td>NaN</td>\n",
       "      <td>NaN</td>\n",
       "      <td>NaN</td>\n",
       "    </tr>\n",
       "    <tr>\n",
       "      <th>4</th>\n",
       "      <td>2018-06-18</td>\n",
       "      <td>6759.72</td>\n",
       "      <td>3.27</td>\n",
       "      <td>519.823</td>\n",
       "      <td>3.42</td>\n",
       "      <td>0.542901</td>\n",
       "      <td>2.52</td>\n",
       "      <td>NaN</td>\n",
       "      <td>NaN</td>\n",
       "      <td>NaN</td>\n",
       "    </tr>\n",
       "    <tr>\n",
       "      <th>5</th>\n",
       "      <td>2018-06-19</td>\n",
       "      <td>6716.51</td>\n",
       "      <td>3.78</td>\n",
       "      <td>516.749</td>\n",
       "      <td>3.93</td>\n",
       "      <td>0.536424</td>\n",
       "      <td>2.32</td>\n",
       "      <td>NaN</td>\n",
       "      <td>NaN</td>\n",
       "      <td>NaN</td>\n",
       "    </tr>\n",
       "    <tr>\n",
       "      <th>6</th>\n",
       "      <td>2018-06-20</td>\n",
       "      <td>6739.31</td>\n",
       "      <td>-0.17</td>\n",
       "      <td>532.993</td>\n",
       "      <td>2.64</td>\n",
       "      <td>0.542668</td>\n",
       "      <td>-0.09</td>\n",
       "      <td>NaN</td>\n",
       "      <td>NaN</td>\n",
       "      <td>NaN</td>\n",
       "    </tr>\n",
       "    <tr>\n",
       "      <th>7</th>\n",
       "      <td>2018-06-21</td>\n",
       "      <td>6732.97</td>\n",
       "      <td>-0.88</td>\n",
       "      <td>527.195</td>\n",
       "      <td>-1.94</td>\n",
       "      <td>0.532064</td>\n",
       "      <td>-1.74</td>\n",
       "      <td>0.23</td>\n",
       "      <td>0.15</td>\n",
       "      <td>0.14</td>\n",
       "    </tr>\n",
       "    <tr>\n",
       "      <th>8</th>\n",
       "      <td>2018-06-22</td>\n",
       "      <td>6173.73</td>\n",
       "      <td>-8.25</td>\n",
       "      <td>474.704</td>\n",
       "      <td>-10.12</td>\n",
       "      <td>0.498125</td>\n",
       "      <td>-6.52</td>\n",
       "      <td>0.21</td>\n",
       "      <td>0.03</td>\n",
       "      <td>0.07</td>\n",
       "    </tr>\n",
       "    <tr>\n",
       "      <th>9</th>\n",
       "      <td>2018-06-23</td>\n",
       "      <td>6079.35</td>\n",
       "      <td>-7.99</td>\n",
       "      <td>464.279</td>\n",
       "      <td>-8.99</td>\n",
       "      <td>0.482938</td>\n",
       "      <td>-7.48</td>\n",
       "      <td>0.20</td>\n",
       "      <td>0.04</td>\n",
       "      <td>0.07</td>\n",
       "    </tr>\n",
       "    <tr>\n",
       "      <th>10</th>\n",
       "      <td>2018-06-24</td>\n",
       "      <td>5960.62</td>\n",
       "      <td>-3.07</td>\n",
       "      <td>454.737</td>\n",
       "      <td>-3.66</td>\n",
       "      <td>0.470364</td>\n",
       "      <td>-4.38</td>\n",
       "      <td>0.10</td>\n",
       "      <td>0.12</td>\n",
       "      <td>0.09</td>\n",
       "    </tr>\n",
       "  </tbody>\n",
       "</table>\n",
       "</div>"
      ],
      "text/plain": [
       "         Date  bitcoin_price  bitcoin_price_24h  ethereum_price  \\\n",
       "0  2018-06-13        6375.15              -5.36         477.792   \n",
       "1  2018-06-15        6549.40               1.23         494.053   \n",
       "2  2018-06-16        6507.32              -1.64         499.021   \n",
       "3  2018-06-17        6545.04              -0.42         499.069   \n",
       "4  2018-06-18        6759.72               3.27         519.823   \n",
       "5  2018-06-19        6716.51               3.78         516.749   \n",
       "6  2018-06-20        6739.31              -0.17         532.993   \n",
       "7  2018-06-21        6732.97              -0.88         527.195   \n",
       "8  2018-06-22        6173.73              -8.25         474.704   \n",
       "9  2018-06-23        6079.35              -7.99         464.279   \n",
       "10 2018-06-24        5960.62              -3.07         454.737   \n",
       "\n",
       "    ethereum_price_24h  ripple_price  ripple_price_24h  bitcoin_percent_neg  \\\n",
       "0                -7.45      0.534743             -6.60                  NaN   \n",
       "1                 3.09      0.544510              0.43                  NaN   \n",
       "2                -0.72      0.532037             -3.44                  NaN   \n",
       "3                -0.09      0.535350             -2.04                  NaN   \n",
       "4                 3.42      0.542901              2.52                  NaN   \n",
       "5                 3.93      0.536424              2.32                  NaN   \n",
       "6                 2.64      0.542668             -0.09                  NaN   \n",
       "7                -1.94      0.532064             -1.74                 0.23   \n",
       "8               -10.12      0.498125             -6.52                 0.21   \n",
       "9                -8.99      0.482938             -7.48                 0.20   \n",
       "10               -3.66      0.470364             -4.38                 0.10   \n",
       "\n",
       "    ethereum_percent_neg  ripple_percent_neg  \n",
       "0                    NaN                 NaN  \n",
       "1                    NaN                 NaN  \n",
       "2                    NaN                 NaN  \n",
       "3                    NaN                 NaN  \n",
       "4                    NaN                 NaN  \n",
       "5                    NaN                 NaN  \n",
       "6                    NaN                 NaN  \n",
       "7                   0.15                0.14  \n",
       "8                   0.03                0.07  \n",
       "9                   0.04                0.07  \n",
       "10                  0.12                0.09  "
      ]
     },
     "execution_count": 19,
     "metadata": {},
     "output_type": "execute_result"
    }
   ],
   "source": [
    "currency_merged = currency_daily_prices.merge(currency_sentiments,how='left',on='Date')\n",
    "currency_merged"
   ]
  },
  {
   "cell_type": "code",
   "execution_count": 20,
   "metadata": {},
   "outputs": [
    {
     "data": {
      "application/vnd.plotly.v1+json": {
       "data": [
        {
         "name": "Bitcoin Price",
         "type": "scatter",
         "uid": "d101fc",
         "x": [
          "2018-06-13",
          "2018-06-15",
          "2018-06-16",
          "2018-06-17",
          "2018-06-18",
          "2018-06-19",
          "2018-06-20",
          "2018-06-21",
          "2018-06-22",
          "2018-06-23",
          "2018-06-24"
         ],
         "y": [
          -5.36,
          1.23,
          -1.64,
          -0.42,
          3.27,
          3.78,
          -0.17,
          -0.88,
          -8.25,
          -7.99,
          -3.07
         ]
        },
        {
         "name": "Bitcoin Percent Negative Sentiment",
         "type": "scatter",
         "uid": "627121",
         "x": [
          "2018-06-13",
          "2018-06-15",
          "2018-06-16",
          "2018-06-17",
          "2018-06-18",
          "2018-06-19",
          "2018-06-20",
          "2018-06-21",
          "2018-06-22",
          "2018-06-23",
          "2018-06-24"
         ],
         "y": [
          null,
          null,
          null,
          null,
          null,
          null,
          null,
          23,
          21,
          20,
          10
         ]
        }
       ],
       "layout": {
        "height": 500,
        "title": "Daily Price \\ Negative Sentiment Variation for Bitcoin",
        "width": 1000,
        "xaxis": {
         "autorange": true,
         "range": [
          "2018-06-12 07:27:17.7049",
          "2018-06-24 16:32:42.2951"
         ],
         "title": "Date",
         "titlefont": {
          "color": "#7f7f7f",
          "family": "Courier New, monospace",
          "size": 18
         },
         "type": "date"
        },
        "yaxis": {
         "autorange": true,
         "range": [
          -10.450311942959,
          25.200311942959
         ],
         "title": "Price(USD) / Negative Sentiment",
         "titlefont": {
          "color": "#7f7f7f",
          "family": "Courier New, monospace",
          "size": 18
         },
         "type": "linear"
        }
       }
      }
     },
     "metadata": {},
     "output_type": "display_data"
    }
   ],
   "source": [
    "bitcoin_price_data = go.Scatter(x=currency_merged['Date'],\n",
    "                              y=currency_merged['bitcoin_price_24h'],\n",
    "                              name='Bitcoin Price')\n",
    "bitcoin_sentiment_data = go.Scatter(x=currency_merged['Date'],\n",
    "                              y=currency_merged['bitcoin_percent_neg']*100,\n",
    "                              name='Bitcoin Percent Negative Sentiment')\n",
    "data = [bitcoin_price_data,bitcoin_sentiment_data]\n",
    "layout = go.Layout(width=1000,height=500,\n",
    "    title='Daily Price \\ Negative Sentiment Variation for Bitcoin',\n",
    "    xaxis=dict(title='Date',titlefont=dict(family='Courier New, monospace',size=18,color='#7f7f7f')),\n",
    "    yaxis=dict(title='Price(USD) / Negative Sentiment',titlefont=dict( family='Courier New, monospace',size=18,color='#7f7f7f'))\n",
    ")\n",
    "fig = go.Figure(data=data, layout=layout)\n",
    "plotly.offline.iplot(fig)"
   ]
  },
  {
   "cell_type": "code",
   "execution_count": 21,
   "metadata": {},
   "outputs": [
    {
     "data": {
      "application/vnd.plotly.v1+json": {
       "data": [
        {
         "name": "Ethereum Price",
         "type": "scatter",
         "uid": "a820b1",
         "x": [
          "2018-06-13",
          "2018-06-15",
          "2018-06-16",
          "2018-06-17",
          "2018-06-18",
          "2018-06-19",
          "2018-06-20",
          "2018-06-21",
          "2018-06-22",
          "2018-06-23",
          "2018-06-24"
         ],
         "y": [
          -7.45,
          3.09,
          -0.72,
          -0.09,
          3.42,
          3.93,
          2.64,
          -1.94,
          -10.12,
          -8.99,
          -3.66
         ]
        },
        {
         "name": "Ethereum Percent Negative Sentiment",
         "type": "scatter",
         "uid": "8ba3b7",
         "x": [
          "2018-06-13",
          "2018-06-15",
          "2018-06-16",
          "2018-06-17",
          "2018-06-18",
          "2018-06-19",
          "2018-06-20",
          "2018-06-21",
          "2018-06-22",
          "2018-06-23",
          "2018-06-24"
         ],
         "y": [
          null,
          null,
          null,
          null,
          null,
          null,
          null,
          15,
          3,
          4,
          12
         ]
        }
       ],
       "layout": {
        "height": 500,
        "title": "Daily Price \\ Negative Sentiment Variation for Ethereum",
        "width": 1000,
        "xaxis": {
         "autorange": true,
         "range": [
          "2018-06-12 07:24:27.2269",
          "2018-06-24 16:35:32.7731"
         ],
         "title": "Date",
         "titlefont": {
          "color": "#7f7f7f",
          "family": "Courier New, monospace",
          "size": 18
         },
         "type": "date"
        },
        "yaxis": {
         "autorange": true,
         "range": [
          -11.888698752228162,
          16.768698752228165
         ],
         "title": "Price(USD) / Negative Sentiment",
         "titlefont": {
          "color": "#7f7f7f",
          "family": "Courier New, monospace",
          "size": 18
         },
         "type": "linear"
        }
       }
      }
     },
     "metadata": {},
     "output_type": "display_data"
    }
   ],
   "source": [
    "ethereum_price_data = go.Scatter(x=currency_merged['Date'],\n",
    "                              y=currency_merged['ethereum_price_24h'],\n",
    "                              name='Ethereum Price')\n",
    "ethereum_sentiment_data = go.Scatter(x=currency_merged['Date'],\n",
    "                              y=currency_merged['ethereum_percent_neg']*100,\n",
    "                              name='Ethereum Percent Negative Sentiment')\n",
    "data = [ethereum_price_data,ethereum_sentiment_data]\n",
    "layout = go.Layout(width=1000,height=500,\n",
    "    title='Daily Price \\ Negative Sentiment Variation for Ethereum',\n",
    "    xaxis=dict(title='Date',titlefont=dict(family='Courier New, monospace',size=18,color='#7f7f7f')),\n",
    "    yaxis=dict(title='Price(USD) / Negative Sentiment',titlefont=dict( family='Courier New, monospace',size=18,color='#7f7f7f'))\n",
    ")\n",
    "fig = go.Figure(data=data, layout=layout)\n",
    "plotly.offline.iplot(fig)"
   ]
  },
  {
   "cell_type": "code",
   "execution_count": 22,
   "metadata": {},
   "outputs": [
    {
     "data": {
      "application/vnd.plotly.v1+json": {
       "data": [
        {
         "name": "Ripple Price",
         "type": "scatter",
         "uid": "c821ca",
         "x": [
          "2018-06-13",
          "2018-06-15",
          "2018-06-16",
          "2018-06-17",
          "2018-06-18",
          "2018-06-19",
          "2018-06-20",
          "2018-06-21",
          "2018-06-22",
          "2018-06-23",
          "2018-06-24"
         ],
         "y": [
          -6.6,
          0.43,
          -3.44,
          -2.04,
          2.52,
          2.32,
          -0.09,
          -1.74,
          -6.52,
          -7.48,
          -4.38
         ]
        },
        {
         "name": "Ripple Percent Negative Sentiment",
         "type": "scatter",
         "uid": "6e4707",
         "x": [
          "2018-06-13",
          "2018-06-15",
          "2018-06-16",
          "2018-06-17",
          "2018-06-18",
          "2018-06-19",
          "2018-06-20",
          "2018-06-21",
          "2018-06-22",
          "2018-06-23",
          "2018-06-24"
         ],
         "y": [
          null,
          null,
          null,
          null,
          null,
          null,
          null,
          14.000000000000002,
          7.000000000000001,
          7.000000000000001,
          9
         ]
        }
       ],
       "layout": {
        "height": 500,
        "title": "Daily Price \\ Negative Sentiment Variation for Ripple",
        "width": 1000,
        "xaxis": {
         "autorange": true,
         "range": [
          "2018-06-12 07:27:38.427",
          "2018-06-24 16:32:21.573"
         ],
         "title": "Date",
         "titlefont": {
          "color": "#7f7f7f",
          "family": "Courier New, monospace",
          "size": 18
         },
         "type": "date"
        },
        "yaxis": {
         "autorange": true,
         "range": [
          -8.992406417112301,
          15.512406417112302
         ],
         "title": "Price(USD) / Negative Sentiment",
         "titlefont": {
          "color": "#7f7f7f",
          "family": "Courier New, monospace",
          "size": 18
         },
         "type": "linear"
        }
       }
      }
     },
     "metadata": {},
     "output_type": "display_data"
    }
   ],
   "source": [
    "ripple_price_data = go.Scatter(x=currency_merged['Date'],\n",
    "                              y=currency_merged['ripple_price_24h'],\n",
    "                              name='Ripple Price')\n",
    "ripple_sentiment_data = go.Scatter(x=currency_merged['Date'],\n",
    "                              y=currency_merged['ripple_percent_neg']*100,\n",
    "                              name='Ripple Percent Negative Sentiment')\n",
    "data = [ripple_price_data,ripple_sentiment_data]\n",
    "layout = go.Layout(width=1000,height=500,\n",
    "    title='Daily Price \\ Negative Sentiment Variation for Ripple',\n",
    "    xaxis=dict(title='Date',titlefont=dict(family='Courier New, monospace',size=18,color='#7f7f7f')),\n",
    "    yaxis=dict(title='Price(USD) / Negative Sentiment',titlefont=dict( family='Courier New, monospace',size=18,color='#7f7f7f'))\n",
    ")\n",
    "fig = go.Figure(data=data, layout=layout)\n",
    "plotly.offline.iplot(fig)"
   ]
  }
 ],
 "metadata": {
  "kernelspec": {
   "display_name": "Python 3",
   "language": "python",
   "name": "python3"
  },
  "language_info": {
   "codemirror_mode": {
    "name": "ipython",
    "version": 3
   },
   "file_extension": ".py",
   "mimetype": "text/x-python",
   "name": "python",
   "nbconvert_exporter": "python",
   "pygments_lexer": "ipython3",
   "version": "3.6.5"
  }
 },
 "nbformat": 4,
 "nbformat_minor": 2
}
