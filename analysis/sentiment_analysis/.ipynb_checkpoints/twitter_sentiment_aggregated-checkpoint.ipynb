{
 "cells": [
  {
   "cell_type": "markdown",
   "metadata": {},
   "source": [
    "# Twitter Sentiment Analysis"
   ]
  },
  {
   "cell_type": "code",
   "execution_count": 1,
   "metadata": {},
   "outputs": [],
   "source": [
    "import os\n",
    "import glob\n",
    "import re\n",
    "import plotly\n",
    "import datetime\n",
    "import plotly.graph_objs as go\n",
    "import pandas as pd\n",
    "import numpy as np\n",
    "import matplotlib.pyplot as plt\n",
    "import seaborn as sns\n",
    "from wordcloud import WordCloud, STOPWORDS\n",
    "\n",
    "\n",
    "from nltk.stem import WordNetLemmatizer\n",
    "from nltk.sentiment.vader import SentimentIntensityAnalyzer\n",
    "from nltk.sentiment.util import *\n",
    "from nltk import tokenize\n",
    "\n",
    "from sklearn.feature_extraction.text import TfidfVectorizer\n",
    "\n",
    "%matplotlib inline\n",
    "sns.set_style(\"darkgrid\")"
   ]
  },
  {
   "cell_type": "code",
   "execution_count": 2,
   "metadata": {},
   "outputs": [],
   "source": [
    "class cd:\n",
    "    \"\"\"Context manager for changing the current working directory\"\"\"\n",
    "    def __init__(self, newPath):\n",
    "        self.newPath = os.path.expanduser(newPath)\n",
    "\n",
    "    def __enter__(self):\n",
    "        self.savedPath = os.getcwd()\n",
    "        os.chdir(self.newPath)\n",
    "\n",
    "    def __exit__(self, etype, value, traceback):\n",
    "        os.chdir(self.savedPath)\n",
    "\n",
    "data_path='/home/jishnu/Documents/ISB/Term3/practicum/workspace/data_collection/data/daily_data'\n",
    "with cd(data_path):\n",
    "    bitcoin_tweets_list = list(glob.iglob('bitcoin_tweets_*_processed'))\n",
    "    ethereum_tweets_list = list(glob.iglob('ethereum_tweets_*_processed'))\n",
    "    ripple_tweets_list = list(glob.iglob('ripple_tweets_*_processed'))\n",
    "    \n",
    "dates_list = [re.search('[\\w]+_tweets_([\\d]*)_processed',item).group(1) for item in bitcoin_tweets_list]\n",
    "bitcoin_tweets_list = [os.path.join(data_path,item) for item in bitcoin_tweets_list]\n",
    "ethereum_tweets_list = [os.path.join(data_path,item) for item in ethereum_tweets_list]\n",
    "ripple_tweets_list = [os.path.join(data_path,item) for item in ripple_tweets_list]"
   ]
  },
  {
   "cell_type": "code",
   "execution_count": 3,
   "metadata": {},
   "outputs": [],
   "source": [
    "currency_list = []"
   ]
  },
  {
   "cell_type": "code",
   "execution_count": 4,
   "metadata": {},
   "outputs": [],
   "source": [
    "for date in dates_list:\n",
    "    bitcoin_tweets_file = os.path.join(data_path,'bitcoin_tweets_{0}_processed'.format(date))\n",
    "    ethereum_tweets_file = os.path.join(data_path,'ethereum_tweets_{0}_processed'.format(date))\n",
    "    ripple_tweets_file = os.path.join(data_path,'ripple_tweets_{0}_processed'.format(date))\n",
    "    # Creating dataframes\n",
    "    bitcoin_tweets = pd.read_table(bitcoin_tweets_file,sep='###!###',\n",
    "                       header=None,names=['tweet_no','user','date','location','tweet'],\n",
    "                       parse_dates=['date'],engine='python')\n",
    "    ethereum_tweets = pd.read_table(ethereum_tweets_file,sep='###!###',\n",
    "                       header=None,names=['tweet_no','user','date','location','tweet'],\n",
    "                       parse_dates=['date'],engine='python')\n",
    "    ripple_tweets = pd.read_table(ripple_tweets_file,sep='###!###',\n",
    "                       header=None,names=['tweet_no','user','date','location','tweet'],\n",
    "                       parse_dates=['date'],engine='python')\n",
    "    # Creating container for holding all the three dataframes\n",
    "    tweets_df_dict = {'bitcoin' : bitcoin_tweets,'ethereum' : ethereum_tweets,'ripple' : ripple_tweets}\n",
    "    # Preprocessing Steps\n",
    "    for currency in tweets_df_dict:\n",
    "        tweets_df_dict[currency]['tweetos'] = ''\n",
    "        tweets_df_dict[currency]['tweet_clean'] = ''\n",
    "        #add tweetos first part\n",
    "        for i in range(len(tweets_df_dict[currency]['tweet'])):\n",
    "            try:\n",
    "                tweets_df_dict[currency].iloc[i,5] = tweets_df_dict[currency]['tweet'].str.split(' ')[i][1]\n",
    "            except AttributeError:    \n",
    "                tweets_df_dict[currency].iloc[i,5] = 'other'\n",
    "        #Preprocessing tweetos. select tweetos contains 'b@'\n",
    "        for i in range(len(tweets_df_dict[currency]['tweet'])):\n",
    "            if tweets_df_dict[currency]['tweetos'].str.contains('@')[i]  == False:\n",
    "                tweets_df_dict[currency].iloc[i,5] = 'other'\n",
    "        # remove URLs, RTs, and twitter handles\n",
    "        for i in range(len(tweets_df_dict[currency]['tweet'])):\n",
    "            tweets_df_dict[currency].iloc[i,6] = \" \".join([word for word in tweets_df_dict[currency]['tweet'][i].split()\n",
    "                                        if 'http' not in word and '@' not in word and '<' not in word])\n",
    "        tweets_df_dict[currency]['tweet_clean'] = tweets_df_dict[currency]['tweet_clean'].apply(lambda x: re.sub('[!@#$:).;,?&]', '', x.lower()))\n",
    "        tweets_df_dict[currency]['tweet_clean'] = tweets_df_dict[currency]['tweet_clean'].apply(lambda x: re.sub('  ', ' ', x))\n",
    "    # Performing Sentiment Analysis for each currency\n",
    "    for currency in tweets_df_dict:\n",
    "        tweets_df_dict[currency]['text_lem'] = [''.join([WordNetLemmatizer().lemmatize(re.sub('[^A-Za-z]', ' ', line)) for line in lists]).strip() for lists in tweets_df_dict[currency]['tweet_clean']]       \n",
    "        vectorizer = TfidfVectorizer(max_df=0.5,max_features=10000,min_df=10,stop_words='english',use_idf=True)\n",
    "        X = vectorizer.fit_transform(tweets_df_dict[currency]['text_lem'].str.upper())\n",
    "        sid = SentimentIntensityAnalyzer()\n",
    "        tweets_df_dict[currency]['sentiment_compound_polarity']=tweets_df_dict[currency].text_lem.apply(lambda x:sid.polarity_scores(x)['compound'])\n",
    "        tweets_df_dict[currency]['sentiment_neutral']=tweets_df_dict[currency].text_lem.apply(lambda x:sid.polarity_scores(x)['neu'])\n",
    "        tweets_df_dict[currency]['sentiment_negative']=tweets_df_dict[currency].text_lem.apply(lambda x:sid.polarity_scores(x)['neg'])\n",
    "        tweets_df_dict[currency]['sentiment_pos']=tweets_df_dict[currency].text_lem.apply(lambda x:sid.polarity_scores(x)['pos'])\n",
    "        tweets_df_dict[currency]['sentiment_type']=''\n",
    "        tweets_df_dict[currency].loc[tweets_df_dict[currency].sentiment_compound_polarity>0,'sentiment_type']='POSITIVE'\n",
    "        tweets_df_dict[currency].loc[tweets_df_dict[currency].sentiment_compound_polarity==0,'sentiment_type']='NEUTRAL'\n",
    "        tweets_df_dict[currency].loc[tweets_df_dict[currency].sentiment_compound_polarity<0,'sentiment_type']='NEGATIVE'\n",
    "    # Capturing sentiment scores for each currency and date combination\n",
    "    for currency in tweets_df_dict:\n",
    "        tweets_sentiment = tweets_df_dict[currency].groupby(['sentiment_type'])['sentiment_neutral'].count()\n",
    "        tweets_sentiment = pd.DataFrame(tweets_sentiment).reset_index()\n",
    "        tweets_sentiment.columns=['sentiment','count']\n",
    "        sum_count = tweets_sentiment['count'].sum()\n",
    "        tweets_sentiment['percent'] = tweets_sentiment.apply(lambda row:np.round(row['count']/sum_count,2),axis=1)\n",
    "        row = dict()\n",
    "        #row['Currency'] = currency\n",
    "        row['Date'] = date\n",
    "        #row['percent_pos'] = tweets_sentiment.loc[tweets_sentiment['sentiment'] == 'POSITIVE']['percent'].values[0]\n",
    "        #row['percent_neu'] = tweets_sentiment.loc[tweets_sentiment['sentiment'] == 'NEUTRAL']['percent'].values[0]\n",
    "        #row['percent_neg'] = tweets_sentiment.loc[tweets_sentiment['sentiment'] == 'NEGATIVE']['percent'].values[0]\n",
    "        if currency == 'bitcoin':\n",
    "            row['bitcoin_percent_neg'] = tweets_sentiment.loc[tweets_sentiment['sentiment'] == 'NEGATIVE']['percent'].values[0]\n",
    "        elif currency == 'ethereum':\n",
    "            row['ethereum_percent_neg'] = tweets_sentiment.loc[tweets_sentiment['sentiment'] == 'NEGATIVE']['percent'].values[0]\n",
    "        else:\n",
    "            row['ripple_percent_neg'] = tweets_sentiment.loc[tweets_sentiment['sentiment'] == 'NEGATIVE']['percent'].values[0]\n",
    "        currency_list.append(row)   \n",
    "    \n",
    "    "
   ]
  },
  {
   "cell_type": "code",
   "execution_count": 5,
   "metadata": {},
   "outputs": [
    {
     "data": {
      "text/html": [
       "<div>\n",
       "<style scoped>\n",
       "    .dataframe tbody tr th:only-of-type {\n",
       "        vertical-align: middle;\n",
       "    }\n",
       "\n",
       "    .dataframe tbody tr th {\n",
       "        vertical-align: top;\n",
       "    }\n",
       "\n",
       "    .dataframe thead th {\n",
       "        text-align: right;\n",
       "    }\n",
       "</style>\n",
       "<table border=\"1\" class=\"dataframe\">\n",
       "  <thead>\n",
       "    <tr style=\"text-align: right;\">\n",
       "      <th></th>\n",
       "      <th>Date</th>\n",
       "      <th>bitcoin_percent_neg</th>\n",
       "      <th>ethereum_percent_neg</th>\n",
       "      <th>ripple_percent_neg</th>\n",
       "    </tr>\n",
       "  </thead>\n",
       "  <tbody>\n",
       "    <tr>\n",
       "      <th>0</th>\n",
       "      <td>2018-06-21</td>\n",
       "      <td>0.23</td>\n",
       "      <td>0.15</td>\n",
       "      <td>0.14</td>\n",
       "    </tr>\n",
       "    <tr>\n",
       "      <th>1</th>\n",
       "      <td>2018-06-22</td>\n",
       "      <td>0.21</td>\n",
       "      <td>0.03</td>\n",
       "      <td>0.07</td>\n",
       "    </tr>\n",
       "    <tr>\n",
       "      <th>2</th>\n",
       "      <td>2018-06-23</td>\n",
       "      <td>0.20</td>\n",
       "      <td>0.04</td>\n",
       "      <td>0.07</td>\n",
       "    </tr>\n",
       "  </tbody>\n",
       "</table>\n",
       "</div>"
      ],
      "text/plain": [
       "        Date  bitcoin_percent_neg  ethereum_percent_neg  ripple_percent_neg\n",
       "0 2018-06-21                 0.23                  0.15                0.14\n",
       "1 2018-06-22                 0.21                  0.03                0.07\n",
       "2 2018-06-23                 0.20                  0.04                0.07"
      ]
     },
     "execution_count": 5,
     "metadata": {},
     "output_type": "execute_result"
    }
   ],
   "source": [
    "currency_sentiments = pd.DataFrame(currency_list)\n",
    "\n",
    "currency_sentiments['Date'] = pd.to_datetime(currency_sentiments['Date'])\n",
    "currency_sentiments['Date'] = currency_sentiments['Date'].apply(lambda x:x.to_pydatetime())\n",
    "\n",
    "date_grouped = currency_sentiments.groupby(by='Date')\n",
    "currency_sentiments = date_grouped.agg({'bitcoin_percent_neg':max,'ethereum_percent_neg':max,'ripple_percent_neg':max}).reset_index()\n",
    "\n",
    "currency_sentiments"
   ]
  },
  {
   "cell_type": "code",
   "execution_count": 6,
   "metadata": {},
   "outputs": [
    {
     "data": {
      "application/vnd.plotly.v1+json": {
       "data": [
        {
         "name": "Bitcoin Negative Percent",
         "type": "scatter",
         "uid": "d00d16",
         "x": [
          "2018-06-21",
          "2018-06-22",
          "2018-06-23"
         ],
         "y": [
          0.23,
          0.21,
          0.2
         ]
        },
        {
         "name": "Ethereum Negative Percent",
         "type": "scatter",
         "uid": "881156",
         "x": [
          "2018-06-21",
          "2018-06-22",
          "2018-06-23"
         ],
         "y": [
          0.15,
          0.03,
          0.04
         ]
        },
        {
         "name": "Ripple Negative Percent",
         "type": "scatter",
         "uid": "32314f",
         "x": [
          "2018-06-21",
          "2018-06-22",
          "2018-06-23"
         ],
         "y": [
          0.14,
          0.07,
          0.07
         ]
        }
       ],
       "layout": {
        "height": 500,
        "title": "Daily variation of percentage negative sentiment for top 3 cryptocurrencies",
        "width": 1000,
        "xaxis": {
         "autorange": true,
         "range": [
          "2018-06-20 21:00:43.3735",
          "2018-06-23 02:59:16.6265"
         ],
         "title": "Date",
         "titlefont": {
          "color": "#7f7f7f",
          "family": "Courier New, monospace",
          "size": 18
         },
         "type": "date"
        },
        "yaxis": {
         "autorange": true,
         "range": [
          -1.5851638789011364,
          -0.575987030361608
         ],
         "title": "Percentage negative sentiments",
         "titlefont": {
          "color": "#7f7f7f",
          "family": "Courier New, monospace",
          "size": 18
         },
         "type": "log"
        }
       }
      }
     },
     "metadata": {},
     "output_type": "display_data"
    }
   ],
   "source": [
    "bitcoin_neg_data = go.Scatter(x=currency_sentiments['Date'],\n",
    "                              y=currency_sentiments['bitcoin_percent_neg'],\n",
    "                              name='Bitcoin Negative Percent')\n",
    "ethereum_neg_data = go.Scatter(x=currency_sentiments['Date'],\n",
    "                              y=currency_sentiments['ethereum_percent_neg'],\n",
    "                              name='Ethereum Negative Percent')\n",
    "ripple_neg_data = go.Scatter(x=currency_sentiments['Date'],\n",
    "                              y=currency_sentiments['ripple_percent_neg'],\n",
    "                              name='Ripple Negative Percent')\n",
    "data = [bitcoin_neg_data,ethereum_neg_data,ripple_neg_data]\n",
    "layout = go.Layout(width=1000,height=500,\n",
    "    title='Daily variation of percentage negative sentiment for top 3 cryptocurrencies',\n",
    "    xaxis=dict(title='Date',titlefont=dict(family='Courier New, monospace',size=18,color='#7f7f7f')),\n",
    "    yaxis=dict(title='Percentage negative sentiments',titlefont=dict( family='Courier New, monospace',size=18,color='#7f7f7f'),type='log')\n",
    ")\n",
    "fig = go.Figure(data=data, layout=layout)\n",
    "plotly.offline.iplot(fig)"
   ]
  }
 ],
 "metadata": {
  "kernelspec": {
   "display_name": "Python 3",
   "language": "python",
   "name": "python3"
  },
  "language_info": {
   "codemirror_mode": {
    "name": "ipython",
    "version": 3
   },
   "file_extension": ".py",
   "mimetype": "text/x-python",
   "name": "python",
   "nbconvert_exporter": "python",
   "pygments_lexer": "ipython3",
   "version": "3.6.5"
  }
 },
 "nbformat": 4,
 "nbformat_minor": 2
}
