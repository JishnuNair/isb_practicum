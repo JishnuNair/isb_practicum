{
 "cells": [
  {
   "cell_type": "markdown",
   "metadata": {},
   "source": [
    "# Cryptocurrency Market Growth Analysis"
   ]
  },
  {
   "cell_type": "code",
   "execution_count": 1,
   "metadata": {},
   "outputs": [],
   "source": [
    "import os\n",
    "import glob\n",
    "import re\n",
    "import plotly\n",
    "import datetime\n",
    "import plotly.graph_objs as go\n",
    "import pandas as pd\n",
    "import numpy as np\n",
    "import matplotlib.pyplot as plt\n",
    "import seaborn as sns\n",
    "\n",
    "%matplotlib inline\n",
    "sns.set_style(\"darkgrid\")"
   ]
  },
  {
   "cell_type": "code",
   "execution_count": 2,
   "metadata": {},
   "outputs": [],
   "source": [
    "class cd:\n",
    "    \"\"\"Context manager for changing the current working directory\"\"\"\n",
    "    def __init__(self, newPath):\n",
    "        self.newPath = os.path.expanduser(newPath)\n",
    "\n",
    "    def __enter__(self):\n",
    "        self.savedPath = os.getcwd()\n",
    "        os.chdir(self.newPath)\n",
    "\n",
    "    def __exit__(self, etype, value, traceback):\n",
    "        os.chdir(self.savedPath)\n",
    "\n",
    "data_path='/home/jishnu/Documents/ISB/Term3/practicum/workspace/data_collection/data/daily_data'"
   ]
  },
  {
   "cell_type": "code",
   "execution_count": 3,
   "metadata": {},
   "outputs": [],
   "source": [
    "with cd(data_path):\n",
    "    global_data_list = list(glob.iglob('global_data_*'))\n",
    "    \n",
    "dates_list = [re.search('global_data_([\\d]*).csv',item).group(1) for item in global_data_list]\n",
    "global_data_list = [os.path.join(data_path,item) for item in global_data_list]"
   ]
  },
  {
   "cell_type": "code",
   "execution_count": 4,
   "metadata": {},
   "outputs": [
    {
     "data": {
      "text/plain": [
       "['/home/jishnu/Documents/ISB/Term3/practicum/workspace/data_collection/data/daily_data/global_data_20180622.csv',\n",
       " '/home/jishnu/Documents/ISB/Term3/practicum/workspace/data_collection/data/daily_data/global_data_20180623.csv',\n",
       " '/home/jishnu/Documents/ISB/Term3/practicum/workspace/data_collection/data/daily_data/global_data_20180620.csv',\n",
       " '/home/jishnu/Documents/ISB/Term3/practicum/workspace/data_collection/data/daily_data/global_data_20180616.csv',\n",
       " '/home/jishnu/Documents/ISB/Term3/practicum/workspace/data_collection/data/daily_data/global_data_20180618.csv',\n",
       " '/home/jishnu/Documents/ISB/Term3/practicum/workspace/data_collection/data/daily_data/global_data_20180615.csv',\n",
       " '/home/jishnu/Documents/ISB/Term3/practicum/workspace/data_collection/data/daily_data/global_data_20180613.csv',\n",
       " '/home/jishnu/Documents/ISB/Term3/practicum/workspace/data_collection/data/daily_data/global_data_20180621.csv',\n",
       " '/home/jishnu/Documents/ISB/Term3/practicum/workspace/data_collection/data/daily_data/global_data_20180617.csv',\n",
       " '/home/jishnu/Documents/ISB/Term3/practicum/workspace/data_collection/data/daily_data/global_data_20180619.csv']"
      ]
     },
     "execution_count": 4,
     "metadata": {},
     "output_type": "execute_result"
    }
   ],
   "source": [
    "global_data_list"
   ]
  },
  {
   "cell_type": "code",
   "execution_count": 5,
   "metadata": {},
   "outputs": [
    {
     "data": {
      "text/html": [
       "<div>\n",
       "<style scoped>\n",
       "    .dataframe tbody tr th:only-of-type {\n",
       "        vertical-align: middle;\n",
       "    }\n",
       "\n",
       "    .dataframe tbody tr th {\n",
       "        vertical-align: top;\n",
       "    }\n",
       "\n",
       "    .dataframe thead th {\n",
       "        text-align: right;\n",
       "    }\n",
       "</style>\n",
       "<table border=\"1\" class=\"dataframe\">\n",
       "  <thead>\n",
       "    <tr style=\"text-align: right;\">\n",
       "      <th></th>\n",
       "      <th>Unnamed: 0</th>\n",
       "      <th>active_cryptocurrencies</th>\n",
       "      <th>active_markets</th>\n",
       "      <th>bitcoin_percentage_of_market_cap</th>\n",
       "      <th>last_updated</th>\n",
       "      <th>quotes.USD.total_market_cap</th>\n",
       "      <th>quotes.USD.total_volume_24h</th>\n",
       "    </tr>\n",
       "  </thead>\n",
       "  <tbody>\n",
       "    <tr>\n",
       "      <th>0</th>\n",
       "      <td>0</td>\n",
       "      <td>1604</td>\n",
       "      <td>11359</td>\n",
       "      <td>40.72</td>\n",
       "      <td>1529685876</td>\n",
       "      <td>2.593686e+11</td>\n",
       "      <td>1.523764e+10</td>\n",
       "    </tr>\n",
       "  </tbody>\n",
       "</table>\n",
       "</div>"
      ],
      "text/plain": [
       "   Unnamed: 0  active_cryptocurrencies  active_markets  \\\n",
       "0           0                     1604           11359   \n",
       "\n",
       "   bitcoin_percentage_of_market_cap  last_updated  \\\n",
       "0                             40.72    1529685876   \n",
       "\n",
       "   quotes.USD.total_market_cap  quotes.USD.total_volume_24h  \n",
       "0                 2.593686e+11                 1.523764e+10  "
      ]
     },
     "execution_count": 5,
     "metadata": {},
     "output_type": "execute_result"
    }
   ],
   "source": [
    "pd.read_csv(global_data_list[0]).head()"
   ]
  },
  {
   "cell_type": "code",
   "execution_count": 10,
   "metadata": {},
   "outputs": [
    {
     "data": {
      "text/html": [
       "<div>\n",
       "<style scoped>\n",
       "    .dataframe tbody tr th:only-of-type {\n",
       "        vertical-align: middle;\n",
       "    }\n",
       "\n",
       "    .dataframe tbody tr th {\n",
       "        vertical-align: top;\n",
       "    }\n",
       "\n",
       "    .dataframe thead th {\n",
       "        text-align: right;\n",
       "    }\n",
       "</style>\n",
       "<table border=\"1\" class=\"dataframe\">\n",
       "  <thead>\n",
       "    <tr style=\"text-align: right;\">\n",
       "      <th></th>\n",
       "      <th>Date</th>\n",
       "      <th>active_cryptocurrencies</th>\n",
       "      <th>active_markets</th>\n",
       "      <th>bitcoin_percent_mkt_cap</th>\n",
       "      <th>tot_mkt_cap</th>\n",
       "      <th>tot_vol</th>\n",
       "    </tr>\n",
       "  </thead>\n",
       "  <tbody>\n",
       "    <tr>\n",
       "      <th>6</th>\n",
       "      <td>2018-06-13</td>\n",
       "      <td>1627</td>\n",
       "      <td>11244</td>\n",
       "      <td>40.18</td>\n",
       "      <td>2.718339e+11</td>\n",
       "      <td>1.736294e+10</td>\n",
       "    </tr>\n",
       "    <tr>\n",
       "      <th>5</th>\n",
       "      <td>2018-06-15</td>\n",
       "      <td>1629</td>\n",
       "      <td>11299</td>\n",
       "      <td>39.86</td>\n",
       "      <td>2.807313e+11</td>\n",
       "      <td>1.535785e+10</td>\n",
       "    </tr>\n",
       "    <tr>\n",
       "      <th>3</th>\n",
       "      <td>2018-06-16</td>\n",
       "      <td>1629</td>\n",
       "      <td>11363</td>\n",
       "      <td>39.83</td>\n",
       "      <td>2.792970e+11</td>\n",
       "      <td>1.196195e+10</td>\n",
       "    </tr>\n",
       "    <tr>\n",
       "      <th>8</th>\n",
       "      <td>2018-06-17</td>\n",
       "      <td>1629</td>\n",
       "      <td>11363</td>\n",
       "      <td>39.91</td>\n",
       "      <td>2.803948e+11</td>\n",
       "      <td>1.106124e+10</td>\n",
       "    </tr>\n",
       "    <tr>\n",
       "      <th>4</th>\n",
       "      <td>2018-06-18</td>\n",
       "      <td>1630</td>\n",
       "      <td>11388</td>\n",
       "      <td>40.04</td>\n",
       "      <td>2.887413e+11</td>\n",
       "      <td>1.199788e+10</td>\n",
       "    </tr>\n",
       "    <tr>\n",
       "      <th>9</th>\n",
       "      <td>2018-06-19</td>\n",
       "      <td>1628</td>\n",
       "      <td>11387</td>\n",
       "      <td>40.09</td>\n",
       "      <td>2.864975e+11</td>\n",
       "      <td>1.226040e+10</td>\n",
       "    </tr>\n",
       "    <tr>\n",
       "      <th>2</th>\n",
       "      <td>2018-06-20</td>\n",
       "      <td>1627</td>\n",
       "      <td>11392</td>\n",
       "      <td>39.82</td>\n",
       "      <td>2.894258e+11</td>\n",
       "      <td>1.323163e+10</td>\n",
       "    </tr>\n",
       "    <tr>\n",
       "      <th>7</th>\n",
       "      <td>2018-06-21</td>\n",
       "      <td>1605</td>\n",
       "      <td>11383</td>\n",
       "      <td>40.20</td>\n",
       "      <td>2.865223e+11</td>\n",
       "      <td>1.151795e+10</td>\n",
       "    </tr>\n",
       "    <tr>\n",
       "      <th>0</th>\n",
       "      <td>2018-06-22</td>\n",
       "      <td>1604</td>\n",
       "      <td>11359</td>\n",
       "      <td>40.72</td>\n",
       "      <td>2.593686e+11</td>\n",
       "      <td>1.523764e+10</td>\n",
       "    </tr>\n",
       "    <tr>\n",
       "      <th>1</th>\n",
       "      <td>2018-06-23</td>\n",
       "      <td>1586</td>\n",
       "      <td>11214</td>\n",
       "      <td>41.05</td>\n",
       "      <td>2.534011e+11</td>\n",
       "      <td>1.737306e+10</td>\n",
       "    </tr>\n",
       "  </tbody>\n",
       "</table>\n",
       "</div>"
      ],
      "text/plain": [
       "        Date  active_cryptocurrencies  active_markets  \\\n",
       "6 2018-06-13                     1627           11244   \n",
       "5 2018-06-15                     1629           11299   \n",
       "3 2018-06-16                     1629           11363   \n",
       "8 2018-06-17                     1629           11363   \n",
       "4 2018-06-18                     1630           11388   \n",
       "9 2018-06-19                     1628           11387   \n",
       "2 2018-06-20                     1627           11392   \n",
       "7 2018-06-21                     1605           11383   \n",
       "0 2018-06-22                     1604           11359   \n",
       "1 2018-06-23                     1586           11214   \n",
       "\n",
       "   bitcoin_percent_mkt_cap   tot_mkt_cap       tot_vol  \n",
       "6                    40.18  2.718339e+11  1.736294e+10  \n",
       "5                    39.86  2.807313e+11  1.535785e+10  \n",
       "3                    39.83  2.792970e+11  1.196195e+10  \n",
       "8                    39.91  2.803948e+11  1.106124e+10  \n",
       "4                    40.04  2.887413e+11  1.199788e+10  \n",
       "9                    40.09  2.864975e+11  1.226040e+10  \n",
       "2                    39.82  2.894258e+11  1.323163e+10  \n",
       "7                    40.20  2.865223e+11  1.151795e+10  \n",
       "0                    40.72  2.593686e+11  1.523764e+10  \n",
       "1                    41.05  2.534011e+11  1.737306e+10  "
      ]
     },
     "execution_count": 10,
     "metadata": {},
     "output_type": "execute_result"
    }
   ],
   "source": [
    "global_val_list = []\n",
    "for date in dates_list:\n",
    "    global_file = os.path.join(data_path,'global_data_{0}.csv'.format(date))\n",
    "    global_df = pd.read_csv(global_file,usecols=['active_cryptocurrencies','active_markets',\n",
    "                                                 'bitcoin_percentage_of_market_cap','quotes.USD.total_market_cap',\n",
    "                                                 'quotes.USD.total_volume_24h'])\n",
    "    global_val_list.append({'Date' : date,\n",
    "                            'active_cryptocurrencies' : global_df['active_cryptocurrencies'].values[0],\n",
    "                            'active_markets' : global_df['active_markets'].values[0],\n",
    "                            'bitcoin_percent_mkt_cap' : global_df['bitcoin_percentage_of_market_cap'].values[0],\n",
    "                            'tot_mkt_cap' : global_df['quotes.USD.total_market_cap'].values[0],\n",
    "                            'tot_vol' : global_df['quotes.USD.total_volume_24h'].values[0]})\n",
    "\n",
    "daily_global_data = pd.DataFrame(global_val_list)\n",
    "daily_global_data['Date'] = pd.to_datetime(daily_global_data['Date'])\n",
    "daily_global_data['Date'] = daily_global_data['Date'].apply(lambda x:x.to_pydatetime())\n",
    "daily_global_data = daily_global_data.sort_values(by='Date')\n",
    "daily_global_data"
   ]
  },
  {
   "cell_type": "code",
   "execution_count": 16,
   "metadata": {},
   "outputs": [
    {
     "data": {
      "application/vnd.plotly.v1+json": {
       "data": [
        {
         "name": "Total Market Cap",
         "type": "scatter",
         "uid": "ccd7d3",
         "x": [
          "2018-06-13",
          "2018-06-15",
          "2018-06-16",
          "2018-06-17",
          "2018-06-18",
          "2018-06-19",
          "2018-06-20",
          "2018-06-21",
          "2018-06-22",
          "2018-06-23"
         ],
         "y": [
          271833909789,
          280731315628,
          279297021174,
          280394758545,
          288741280711,
          286497461467,
          289425805826,
          286522272692,
          259368586277,
          253401136819
         ]
        }
       ],
       "layout": {
        "height": 500,
        "title": "Trend in Total Market Capitalization for all cryptocurrencies",
        "width": 1000,
        "xaxis": {
         "autorange": true,
         "range": [
          "2018-06-12 09:19:50.3808",
          "2018-06-23 14:40:09.6192"
         ],
         "title": "Date",
         "titlefont": {
          "color": "#7f7f7f",
          "family": "Courier New, monospace",
          "size": 18
         },
         "type": "date"
        },
        "yaxis": {
         "autorange": true,
         "range": [
          250864640516.3681,
          291962302128.6319
         ],
         "title": "Total Market Capitalization(USD)",
         "titlefont": {
          "color": "#7f7f7f",
          "family": "Courier New, monospace",
          "size": 18
         },
         "type": "linear"
        }
       }
      }
     },
     "metadata": {},
     "output_type": "display_data"
    }
   ],
   "source": [
    "global_mkt_cap_data = go.Scatter(x=daily_global_data['Date'],\n",
    "                              y=daily_global_data['tot_mkt_cap'],\n",
    "                              name='Total Market Cap')\n",
    "data = [global_mkt_cap_data]\n",
    "layout = go.Layout(width=1000,height=500,\n",
    "    title='Trend in Total Market Capitalization for all cryptocurrencies',\n",
    "    xaxis=dict(title='Date',titlefont=dict(family='Courier New, monospace',size=18,color='#7f7f7f')),\n",
    "    yaxis=dict(title='Total Market Capitalization(USD)',titlefont=dict( family='Courier New, monospace',size=18,color='#7f7f7f'))\n",
    ")\n",
    "fig = go.Figure(data=data, layout=layout)\n",
    "plotly.offline.iplot(fig)"
   ]
  },
  {
   "cell_type": "code",
   "execution_count": 15,
   "metadata": {},
   "outputs": [
    {
     "data": {
      "application/vnd.plotly.v1+json": {
       "data": [
        {
         "name": "Total Volume",
         "type": "scatter",
         "uid": "647320",
         "x": [
          "2018-06-13",
          "2018-06-15",
          "2018-06-16",
          "2018-06-17",
          "2018-06-18",
          "2018-06-19",
          "2018-06-20",
          "2018-06-21",
          "2018-06-22",
          "2018-06-23"
         ],
         "y": [
          17362936069,
          15357850590,
          11961953582,
          11061241726,
          11997880998,
          12260401252,
          13231627276,
          11517953522,
          15237643141,
          17373063407
         ]
        }
       ],
       "layout": {
        "height": 500,
        "title": "Trend in Total Volume for all cryptocurrencies",
        "width": 1000,
        "xaxis": {
         "autorange": true,
         "range": [
          "2018-06-12 09:19:50.3808",
          "2018-06-23 14:40:09.6192"
         ],
         "title": "Date",
         "titlefont": {
          "color": "#7f7f7f",
          "family": "Courier New, monospace",
          "size": 18
         },
         "type": "date"
        },
        "yaxis": {
         "autorange": true,
         "range": [
          10616826473.950981,
          17817478659.04902
         ],
         "title": "Total Volume",
         "titlefont": {
          "color": "#7f7f7f",
          "family": "Courier New, monospace",
          "size": 18
         },
         "type": "linear"
        }
       }
      }
     },
     "metadata": {},
     "output_type": "display_data"
    }
   ],
   "source": [
    "global_vol_data = go.Scatter(x=daily_global_data['Date'],\n",
    "                              y=daily_global_data['tot_vol'],\n",
    "                              name='Total Volume')\n",
    "data = [global_vol_data]\n",
    "layout = go.Layout(width=1000,height=500,\n",
    "    title='Trend in Total Volume for all cryptocurrencies',\n",
    "    xaxis=dict(title='Date',titlefont=dict(family='Courier New, monospace',size=18,color='#7f7f7f')),\n",
    "    yaxis=dict(title='Total Volume',titlefont=dict( family='Courier New, monospace',size=18,color='#7f7f7f'))\n",
    ")\n",
    "fig = go.Figure(data=data, layout=layout)\n",
    "plotly.offline.iplot(fig)"
   ]
  }
 ],
 "metadata": {
  "kernelspec": {
   "display_name": "Python 3",
   "language": "python",
   "name": "python3"
  },
  "language_info": {
   "codemirror_mode": {
    "name": "ipython",
    "version": 3
   },
   "file_extension": ".py",
   "mimetype": "text/x-python",
   "name": "python",
   "nbconvert_exporter": "python",
   "pygments_lexer": "ipython3",
   "version": "3.6.5"
  }
 },
 "nbformat": 4,
 "nbformat_minor": 2
}
