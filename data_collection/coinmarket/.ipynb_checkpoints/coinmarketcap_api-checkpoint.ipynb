{
 "cells": [
  {
   "cell_type": "code",
   "execution_count": 1,
   "metadata": {
    "collapsed": true
   },
   "outputs": [],
   "source": [
    "import requests\n",
    "import pandas as pd\n",
    "import datetime\n",
    "from pandas.io.json import json_normalize"
   ]
  },
  {
   "cell_type": "code",
   "execution_count": 4,
   "metadata": {},
   "outputs": [],
   "source": [
    "response = requests.get('https://api.coinmarketcap.com/v2/listings/')\n",
    "data = response.json()"
   ]
  },
  {
   "cell_type": "code",
   "execution_count": 5,
   "metadata": {
    "collapsed": true
   },
   "outputs": [],
   "source": [
    "listings = pd.DataFrame(data['data'])"
   ]
  },
  {
   "cell_type": "code",
   "execution_count": 6,
   "metadata": {},
   "outputs": [
    {
     "data": {
      "text/html": [
       "<div>\n",
       "<style scoped>\n",
       "    .dataframe tbody tr th:only-of-type {\n",
       "        vertical-align: middle;\n",
       "    }\n",
       "\n",
       "    .dataframe tbody tr th {\n",
       "        vertical-align: top;\n",
       "    }\n",
       "\n",
       "    .dataframe thead th {\n",
       "        text-align: right;\n",
       "    }\n",
       "</style>\n",
       "<table border=\"1\" class=\"dataframe\">\n",
       "  <thead>\n",
       "    <tr style=\"text-align: right;\">\n",
       "      <th></th>\n",
       "      <th>id</th>\n",
       "      <th>name</th>\n",
       "      <th>symbol</th>\n",
       "      <th>website_slug</th>\n",
       "    </tr>\n",
       "  </thead>\n",
       "  <tbody>\n",
       "    <tr>\n",
       "      <th>1614</th>\n",
       "      <td>2847</td>\n",
       "      <td>The Abyss</td>\n",
       "      <td>ABYSS</td>\n",
       "      <td>the-abyss</td>\n",
       "    </tr>\n",
       "    <tr>\n",
       "      <th>1615</th>\n",
       "      <td>2848</td>\n",
       "      <td>Paymon</td>\n",
       "      <td>PMNT</td>\n",
       "      <td>paymon</td>\n",
       "    </tr>\n",
       "    <tr>\n",
       "      <th>1616</th>\n",
       "      <td>2849</td>\n",
       "      <td>Hurify</td>\n",
       "      <td>HUR</td>\n",
       "      <td>hurify</td>\n",
       "    </tr>\n",
       "    <tr>\n",
       "      <th>1617</th>\n",
       "      <td>2850</td>\n",
       "      <td>TRAXIA</td>\n",
       "      <td>TMT</td>\n",
       "      <td>traxia</td>\n",
       "    </tr>\n",
       "    <tr>\n",
       "      <th>1618</th>\n",
       "      <td>2851</td>\n",
       "      <td>CGC Token</td>\n",
       "      <td>CGC</td>\n",
       "      <td>cgc-token</td>\n",
       "    </tr>\n",
       "    <tr>\n",
       "      <th>1619</th>\n",
       "      <td>2852</td>\n",
       "      <td>Engine</td>\n",
       "      <td>EGCC</td>\n",
       "      <td>engine</td>\n",
       "    </tr>\n",
       "    <tr>\n",
       "      <th>1620</th>\n",
       "      <td>2853</td>\n",
       "      <td>MIRQ</td>\n",
       "      <td>MRQ</td>\n",
       "      <td>mirq</td>\n",
       "    </tr>\n",
       "    <tr>\n",
       "      <th>1621</th>\n",
       "      <td>2854</td>\n",
       "      <td>PikcioChain</td>\n",
       "      <td>PKC</td>\n",
       "      <td>pikciochain</td>\n",
       "    </tr>\n",
       "    <tr>\n",
       "      <th>1622</th>\n",
       "      <td>2855</td>\n",
       "      <td>CashBet Coin</td>\n",
       "      <td>CBC</td>\n",
       "      <td>cashbet-coin</td>\n",
       "    </tr>\n",
       "    <tr>\n",
       "      <th>1623</th>\n",
       "      <td>2856</td>\n",
       "      <td>CEEK VR</td>\n",
       "      <td>CEEK</td>\n",
       "      <td>ceek-vr</td>\n",
       "    </tr>\n",
       "    <tr>\n",
       "      <th>1624</th>\n",
       "      <td>2857</td>\n",
       "      <td>SalPay</td>\n",
       "      <td>SAL</td>\n",
       "      <td>salpay</td>\n",
       "    </tr>\n",
       "    <tr>\n",
       "      <th>1625</th>\n",
       "      <td>2858</td>\n",
       "      <td>Couchain</td>\n",
       "      <td>COU</td>\n",
       "      <td>couchain</td>\n",
       "    </tr>\n",
       "    <tr>\n",
       "      <th>1626</th>\n",
       "      <td>2859</td>\n",
       "      <td>XMax</td>\n",
       "      <td>XMX</td>\n",
       "      <td>xmax</td>\n",
       "    </tr>\n",
       "    <tr>\n",
       "      <th>1627</th>\n",
       "      <td>2861</td>\n",
       "      <td>GoChain</td>\n",
       "      <td>GO</td>\n",
       "      <td>gochain</td>\n",
       "    </tr>\n",
       "    <tr>\n",
       "      <th>1628</th>\n",
       "      <td>2862</td>\n",
       "      <td>Smartshare</td>\n",
       "      <td>SSP</td>\n",
       "      <td>smartshare</td>\n",
       "    </tr>\n",
       "  </tbody>\n",
       "</table>\n",
       "</div>"
      ],
      "text/plain": [
       "        id          name symbol  website_slug\n",
       "1614  2847     The Abyss  ABYSS     the-abyss\n",
       "1615  2848        Paymon   PMNT        paymon\n",
       "1616  2849        Hurify    HUR        hurify\n",
       "1617  2850        TRAXIA    TMT        traxia\n",
       "1618  2851     CGC Token    CGC     cgc-token\n",
       "1619  2852        Engine   EGCC        engine\n",
       "1620  2853          MIRQ    MRQ          mirq\n",
       "1621  2854   PikcioChain    PKC   pikciochain\n",
       "1622  2855  CashBet Coin    CBC  cashbet-coin\n",
       "1623  2856       CEEK VR   CEEK       ceek-vr\n",
       "1624  2857        SalPay    SAL        salpay\n",
       "1625  2858      Couchain    COU      couchain\n",
       "1626  2859          XMax    XMX          xmax\n",
       "1627  2861       GoChain     GO       gochain\n",
       "1628  2862    Smartshare    SSP    smartshare"
      ]
     },
     "execution_count": 6,
     "metadata": {},
     "output_type": "execute_result"
    }
   ],
   "source": [
    "listings.tail(15)"
   ]
  },
  {
   "cell_type": "code",
   "execution_count": 7,
   "metadata": {
    "collapsed": true
   },
   "outputs": [],
   "source": [
    "ticker_df = pd.DataFrame()"
   ]
  },
  {
   "cell_type": "code",
   "execution_count": null,
   "metadata": {},
   "outputs": [],
   "source": [
    "for listing_id in range(1,listings.id.max(),100):\n",
    "    response = requests.get('https://api.coinmarketcap.com/v2/ticker/?start={0}&sort=id&structure=array'.format(listing_id))\n",
    "    new_data = json_normalize(response.json()['data'])\n",
    "    ticker_df = ticker_df.append(new_data,ignore_index=True)"
   ]
  },
  {
   "cell_type": "code",
   "execution_count": 57,
   "metadata": {
    "collapsed": true
   },
   "outputs": [],
   "source": [
    "response = requests.get('https://api.coinmarketcap.com/v2/global/')"
   ]
  },
  {
   "cell_type": "code",
   "execution_count": 58,
   "metadata": {
    "collapsed": true
   },
   "outputs": [],
   "source": [
    "global_data = json_normalize(response.json()['data'])"
   ]
  },
  {
   "cell_type": "code",
   "execution_count": 66,
   "metadata": {},
   "outputs": [
    {
     "data": {
      "text/html": [
       "<div>\n",
       "<style scoped>\n",
       "    .dataframe tbody tr th:only-of-type {\n",
       "        vertical-align: middle;\n",
       "    }\n",
       "\n",
       "    .dataframe tbody tr th {\n",
       "        vertical-align: top;\n",
       "    }\n",
       "\n",
       "    .dataframe thead th {\n",
       "        text-align: right;\n",
       "    }\n",
       "</style>\n",
       "<table border=\"1\" class=\"dataframe\">\n",
       "  <thead>\n",
       "    <tr style=\"text-align: right;\">\n",
       "      <th></th>\n",
       "      <th>active_cryptocurrencies</th>\n",
       "      <th>active_markets</th>\n",
       "      <th>bitcoin_percentage_of_market_cap</th>\n",
       "      <th>last_updated</th>\n",
       "      <th>quotes.USD.total_market_cap</th>\n",
       "      <th>quotes.USD.total_volume_24h</th>\n",
       "    </tr>\n",
       "  </thead>\n",
       "  <tbody>\n",
       "    <tr>\n",
       "      <th>0</th>\n",
       "      <td>1627</td>\n",
       "      <td>11244</td>\n",
       "      <td>40.18</td>\n",
       "      <td>1528913672</td>\n",
       "      <td>2.718339e+11</td>\n",
       "      <td>1.736294e+10</td>\n",
       "    </tr>\n",
       "  </tbody>\n",
       "</table>\n",
       "</div>"
      ],
      "text/plain": [
       "   active_cryptocurrencies  active_markets  bitcoin_percentage_of_market_cap  \\\n",
       "0                     1627           11244                             40.18   \n",
       "\n",
       "   last_updated  quotes.USD.total_market_cap  quotes.USD.total_volume_24h  \n",
       "0    1528913672                 2.718339e+11                 1.736294e+10  "
      ]
     },
     "execution_count": 66,
     "metadata": {},
     "output_type": "execute_result"
    }
   ],
   "source": [
    "global_data"
   ]
  },
  {
   "cell_type": "code",
   "execution_count": 64,
   "metadata": {
    "collapsed": true
   },
   "outputs": [],
   "source": [
    "now = datetime.datetime.now()"
   ]
  },
  {
   "cell_type": "code",
   "execution_count": 70,
   "metadata": {},
   "outputs": [],
   "source": [
    "listings.to_csv('data/listings_{0}.csv'.format(str(now.strftime(\"%Y%m%d\"))))\n",
    "ticker_df.to_csv('data/ticker_data_{0}.csv'.format(str(now.strftime(\"%Y%m%d\"))))\n",
    "global_data.to_csv('data/global_data_{0}.csv'.format(str(now.strftime(\"%Y%m%d\"))))"
   ]
  }
 ],
 "metadata": {
  "kernelspec": {
   "display_name": "Python 3",
   "language": "python",
   "name": "python3"
  },
  "language_info": {
   "codemirror_mode": {
    "name": "ipython",
    "version": 3
   },
   "file_extension": ".py",
   "mimetype": "text/x-python",
   "name": "python",
   "nbconvert_exporter": "python",
   "pygments_lexer": "ipython3",
   "version": "3.6.2"
  },
  "toc": {
   "nav_menu": {},
   "number_sections": true,
   "sideBar": true,
   "skip_h1_title": false,
   "title_cell": "Table of Contents",
   "title_sidebar": "Contents",
   "toc_cell": false,
   "toc_position": {},
   "toc_section_display": true,
   "toc_window_display": false
  },
  "varInspector": {
   "cols": {
    "lenName": 16,
    "lenType": 16,
    "lenVar": 40
   },
   "kernels_config": {
    "python": {
     "delete_cmd_postfix": "",
     "delete_cmd_prefix": "del ",
     "library": "var_list.py",
     "varRefreshCmd": "print(var_dic_list())"
    },
    "r": {
     "delete_cmd_postfix": ") ",
     "delete_cmd_prefix": "rm(",
     "library": "var_list.r",
     "varRefreshCmd": "cat(var_dic_list()) "
    }
   },
   "types_to_exclude": [
    "module",
    "function",
    "builtin_function_or_method",
    "instance",
    "_Feature"
   ],
   "window_display": false
  }
 },
 "nbformat": 4,
 "nbformat_minor": 2
}
